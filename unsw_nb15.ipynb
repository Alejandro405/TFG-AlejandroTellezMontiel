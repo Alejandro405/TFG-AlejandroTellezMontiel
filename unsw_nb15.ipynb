{
  "cells": [
    {
      "cell_type": "markdown",
      "metadata": {
        "id": "view-in-github",
        "colab_type": "text"
      },
      "source": [
        "<a href=\"https://colab.research.google.com/github/Alejandro405/tfg/blob/main/unsw_nb15.ipynb\" target=\"_parent\"><img src=\"https://colab.research.google.com/assets/colab-badge.svg\" alt=\"Open In Colab\"/></a>"
      ]
    },
    {
      "cell_type": "code",
      "execution_count": null,
      "metadata": {
        "colab": {
          "base_uri": "https://localhost:8080/"
        },
        "id": "sMXED3IPFc5a",
        "outputId": "a96e2a29-1637-4fd4-ac51-e71146f9079f"
      },
      "outputs": [
        {
          "name": "stdout",
          "output_type": "stream",
          "text": [
            "Requirement already satisfied: statsmodels in /usr/local/lib/python3.10/dist-packages (0.14.2)\n",
            "Requirement already satisfied: numpy>=1.22.3 in /usr/local/lib/python3.10/dist-packages (from statsmodels) (1.25.2)\n",
            "Requirement already satisfied: scipy!=1.9.2,>=1.8 in /usr/local/lib/python3.10/dist-packages (from statsmodels) (1.11.4)\n",
            "Requirement already satisfied: pandas!=2.1.0,>=1.4 in /usr/local/lib/python3.10/dist-packages (from statsmodels) (2.0.3)\n",
            "Requirement already satisfied: patsy>=0.5.6 in /usr/local/lib/python3.10/dist-packages (from statsmodels) (0.5.6)\n",
            "Requirement already satisfied: packaging>=21.3 in /usr/local/lib/python3.10/dist-packages (from statsmodels) (24.0)\n",
            "Requirement already satisfied: python-dateutil>=2.8.2 in /usr/local/lib/python3.10/dist-packages (from pandas!=2.1.0,>=1.4->statsmodels) (2.8.2)\n",
            "Requirement already satisfied: pytz>=2020.1 in /usr/local/lib/python3.10/dist-packages (from pandas!=2.1.0,>=1.4->statsmodels) (2023.4)\n",
            "Requirement already satisfied: tzdata>=2022.1 in /usr/local/lib/python3.10/dist-packages (from pandas!=2.1.0,>=1.4->statsmodels) (2024.1)\n",
            "Requirement already satisfied: six in /usr/local/lib/python3.10/dist-packages (from patsy>=0.5.6->statsmodels) (1.16.0)\n"
          ]
        }
      ],
      "source": [
        "!pip install statsmodels"
      ]
    },
    {
      "cell_type": "code",
      "execution_count": null,
      "metadata": {
        "id": "krU1OjIW2nsk",
        "colab": {
          "base_uri": "https://localhost:8080/"
        },
        "outputId": "494f1cf1-7282-47fc-9581-fbd6b133d5ee"
      },
      "outputs": [
        {
          "output_type": "stream",
          "name": "stdout",
          "text": [
            "\u001b[?25l     \u001b[90m━━━━━━━━━━━━━━━━━━━━━━━━━━━━━━━━━━━━━━━━\u001b[0m \u001b[32m0.0/359.5 kB\u001b[0m \u001b[31m?\u001b[0m eta \u001b[36m-:--:--\u001b[0m\r\u001b[2K     \u001b[91m━━━━━━━━━━━━━━━━━━━━━━━━━━━━━━━━━━━━━━━\u001b[0m\u001b[91m╸\u001b[0m \u001b[32m358.4/359.5 kB\u001b[0m \u001b[31m11.4 MB/s\u001b[0m eta \u001b[36m0:00:01\u001b[0m\r\u001b[2K     \u001b[90m━━━━━━━━━━━━━━━━━━━━━━━━━━━━━━━━━━━━━━━━\u001b[0m \u001b[32m359.5/359.5 kB\u001b[0m \u001b[31m7.7 MB/s\u001b[0m eta \u001b[36m0:00:00\u001b[0m\n",
            "\u001b[?25h\u001b[?25l     \u001b[90m━━━━━━━━━━━━━━━━━━━━━━━━━━━━━━━━━━━━━━━━\u001b[0m \u001b[32m0.0/104.8 kB\u001b[0m \u001b[31m?\u001b[0m eta \u001b[36m-:--:--\u001b[0m\r\u001b[2K     \u001b[90m━━━━━━━━━━━━━━━━━━━━━━━━━━━━━━━━━━━━━━━━\u001b[0m \u001b[32m104.8/104.8 kB\u001b[0m \u001b[31m10.6 MB/s\u001b[0m eta \u001b[36m0:00:00\u001b[0m\n",
            "\u001b[?25h  Preparing metadata (setup.py) ... \u001b[?25l\u001b[?25hdone\n",
            "\u001b[2K     \u001b[90m━━━━━━━━━━━━━━━━━━━━━━━━━━━━━━━━━━━━━━━━\u001b[0m \u001b[32m686.1/686.1 kB\u001b[0m \u001b[31m26.2 MB/s\u001b[0m eta \u001b[36m0:00:00\u001b[0m\n",
            "\u001b[2K     \u001b[90m━━━━━━━━━━━━━━━━━━━━━━━━━━━━━━━━━━━━━━━━\u001b[0m \u001b[32m296.5/296.5 kB\u001b[0m \u001b[31m18.7 MB/s\u001b[0m eta \u001b[36m0:00:00\u001b[0m\n",
            "\u001b[?25h  Building wheel for htmlmin (setup.py) ... \u001b[?25l\u001b[?25hdone\n"
          ]
        }
      ],
      "source": [
        "import numpy as np\n",
        "import pandas as pd\n",
        "!pip install ydata_profiling --quiet\n",
        "from ydata_profiling import ProfileReport\n",
        "from ydata_profiling.config import Settings\n",
        "import requests\n",
        "\n",
        "from sklearn.preprocessing import LabelEncoder\n",
        "\n",
        "import matplotlib.pyplot as plt\n",
        "import seaborn as sns\n",
        "\n",
        "import os\n",
        "import json\n",
        "\n",
        "# add the column labels\n",
        "kdd_columns = (['duration'\n",
        ",'protocol_type'\n",
        ",'service'\n",
        ",'flag'\n",
        ",'src_bytes'\n",
        ",'dst_bytes'\n",
        ",'land'\n",
        ",'wrong_fragment'\n",
        ",'urgent'\n",
        ",'hot'\n",
        ",'num_failed_logins'\n",
        ",'logged_in'\n",
        ",'num_compromised'\n",
        ",'root_shell'\n",
        ",'su_attempted'\n",
        ",'num_root'\n",
        ",'num_file_creations'\n",
        ",'num_shells'\n",
        ",'num_access_files'\n",
        ",'num_outbound_cmds'\n",
        ",'is_host_login'\n",
        ",'is_guest_login'\n",
        ",'count'\n",
        ",'srv_count'\n",
        ",'serror_rate'\n",
        ",'srv_serror_rate'\n",
        ",'rerror_rate'\n",
        ",'srv_rerror_rate'\n",
        ",'same_srv_rate'\n",
        ",'diff_srv_rate'\n",
        ",'srv_diff_host_rate'\n",
        ",'dst_host_count'\n",
        ",'dst_host_srv_count'\n",
        ",'dst_host_same_srv_rate'\n",
        ",'dst_host_diff_srv_rate'\n",
        ",'dst_host_same_src_port_rate'\n",
        ",'dst_host_srv_diff_host_rate'\n",
        ",'dst_host_serror_rate'\n",
        ",'dst_host_srv_serror_rate'\n",
        ",'dst_host_rerror_rate'\n",
        ",'dst_host_srv_rerror_rate'\n",
        ",'Class'])\n",
        "\n",
        "def get_country_from_ip(ip):\n",
        "    url = 'http://ip-api.com/json/' + ip\n",
        "    response = requests.get(url)\n",
        "    data = response.json()\n",
        "\n",
        "    try:\n",
        "        res = data['country']\n",
        "    except:\n",
        "        res = data['message']\n",
        "\n",
        "    return res\n",
        "\n",
        "def save_file(json_data, file_path):\n",
        "  with open(file_path, 'w') as out:\n",
        "    json.dump(json_data, out)\n",
        "\n",
        "\n",
        "def freq_encoding(data):\n",
        "  for cat_var in [idx for idx, dtype in data.dtypes.items() if dtype == 'object']:\n",
        "    # Calcular la frecuencia de cada categoría\n",
        "    frecuencias = data[cat_var].value_counts(normalize=True)\n",
        "\n",
        "    # Mapear las frecuencias a las categorías y reemplazar en el DataFrame original\n",
        "    data[cat_var] = data[cat_var].map(frecuencias)\n",
        "\n",
        "  return (data)\n",
        "\n",
        "seed = 42"
      ]
    },
    {
      "cell_type": "code",
      "execution_count": null,
      "metadata": {
        "colab": {
          "base_uri": "https://localhost:8080/"
        },
        "id": "YniK9CMVgCoB",
        "outputId": "eea59b91-3de2-4c54-f68b-47261793802c"
      },
      "outputs": [
        {
          "name": "stdout",
          "output_type": "stream",
          "text": [
            "255429\t./drive/MyDrive/cse-cic/cleared_cse-cic_sampled.csv\n",
            "486841\t./drive/MyDrive/cse-cic/cse-cic.csv\n",
            "247009\t./drive/MyDrive/cse-cic/cse-cic_sampled.csv\n",
            "250104\t./drive/MyDrive/cse-cic/depured_cse_cic.csv\n",
            "215924\t./drive/MyDrive/cse-cic/EDAdepured_cse-cic.csv\n",
            "250102\t./drive/MyDrive/cse-cic/final_cse-cic.csv\n",
            "229944\t./drive/MyDrive/cse-cic/variables.csv\n"
          ]
        }
      ],
      "source": [
        "!du -aH ./drive/MyDrive/cse-cic/*.csv"
      ]
    },
    {
      "cell_type": "code",
      "execution_count": null,
      "metadata": {
        "colab": {
          "base_uri": "https://localhost:8080/"
        },
        "id": "l-rWgM0T9qtK",
        "outputId": "1a3a1bf0-f177-4c17-c3fc-458e464658d6"
      },
      "outputs": [
        {
          "name": "stdout",
          "output_type": "stream",
          "text": [
            "duration,protocol_type,service,flag,src_bytes,dst_bytes,land,wrong_fragment,urgent,hot,num_failed_logins,logged_in,num_compromised,root_shell,su_attempted,num_root,num_file_creations,num_shells,num_access_files,num_outbound_cmds,is_host_login,is_guest_login,count,srv_count,serror_rate,srv_serror_rate,rerror_rate,srv_rerror_rate,same_srv_rate,diff_srv_rate,srv_diff_host_rate,dst_host_count,dst_host_srv_count,dst_host_same_srv_rate,dst_host_diff_srv_rate,dst_host_same_src_port_rate,dst_host_srv_diff_host_rate,dst_host_serror_rate,dst_host_srv_serror_rate,dst_host_rerror_rate,dst_host_srv_rerror_rate,Class\n",
            "0,udp,other,SF,146,0,0,0,0,0,0,0,0,0,0,0,0,0,0,0,0,0,13,1,0.0,0.0,0.0,0.0,0.08,0.15,0.0,255,1,0.0,0.6,0.88,0.0,0.0,0.0,0.0,0.0,normal\n",
            "0,tcp,private,S0,0,0,0,0,0,0,0,0,0,0,0,0,0,0,0,0,0,0,123,6,1.0,1.0,0.0,0.0,0.05,0.07,0.0,255,26,0.1,0.05,0.0,0.0,1.0,1.0,0.0,0.0,anomaly\n",
            "0,tcp,http,SF,232,8153,0,0,0,0,0,1,0,0,0,0,0,0,0,0,0,0,5,5,0.2,0.2,0.0,0.0,1.0,0.0,0.0,30,255,1.0,0.0,0.03,0.04,0.03,0.01,0.0,0.01,normal\n",
            "0,tcp,http,SF,199,420,0,0,0,0,0,1,0,0,0,0,0,0,0,0,0,0,30,32,0.0,0.0,0.0,0.0,1.0,0.0,0.09,255,255,1.0,0.0,0.0,0.0,0.0,0.0,0.0,0.0,normal\n",
            "0,tcp,private,REJ,0,0,0,0,0,0,0,0,0,0,0,0,0,0,0,0,0,0,121,19,0.0,0.0,1.0,1.0,0.16,0.06,0.0,255,19,0.07,0.07,0.0,0.0,0.0,0.0,1.0,1.0,anomaly\n",
            "0,tcp,private,S0,0,0,0,0,0,0,0,0,0,0,0,0,0,0,0,0,0,0,166,9,1.0,1.0,0.0,0.0,0.05,0.06,0.0,255,9,0.04,0.05,0.0,0.0,1.0,1.0,0.0,0.0,anomaly\n",
            "0,tcp,private,S0,0,0,0,0,0,0,0,0,0,0,0,0,0,0,0,0,0,0,117,16,1.0,1.0,0.0,0.0,0.14,0.06,0.0,255,15,0.06,0.07,0.0,0.0,1.0,1.0,0.0,0.0,anomaly\n",
            "0,tcp,remote_job,S0,0,0,0,0,0,0,0,0,0,0,0,0,0,0,0,0,0,0,270,23,1.0,1.0,0.0,0.0,0.09,0.05,0.0,255,23,0.09,0.05,0.0,0.0,1.0,1.0,0.0,0.0,anomaly\n",
            "0,tcp,private,S0,0,0,0,0,0,0,0,0,0,0,0,0,0,0,0,0,0,0,133,8,1.0,1.0,0.0,0.0,0.06,0.06,0.0,255,13,0.05,0.06,0.0,0.0,1.0,1.0,0.0,0.0,anomaly\n"
          ]
        }
      ],
      "source": [
        "!cat /content/drive/MyDrive/nsl-kdd/nsl-kdd.csv | head"
      ]
    },
    {
      "cell_type": "code",
      "execution_count": null,
      "metadata": {
        "colab": {
          "base_uri": "https://localhost:8080/",
          "height": 308
        },
        "id": "av45wjO_1FEu",
        "outputId": "eef9d822-1fec-4ad1-fad9-e138ef1e09c7"
      },
      "outputs": [
        {
          "output_type": "stream",
          "name": "stderr",
          "text": [
            "<ipython-input-2-7d26f8ab94df>:10: DtypeWarning: Columns (1,35) have mixed types. Specify dtype option on import or set low_memory=False.\n",
            "  df = pd.read_csv(f'./drive/MyDrive/{dataset_name}/{data_file}', low_memory=True, memory_map=True)\n"
          ]
        },
        {
          "output_type": "execute_result",
          "data": {
            "text/plain": [
              "   srcip dsport proto state       dur  sbytes  dbytes  sttl  dttl  sloss  ...  \\\n",
              "0  Japan     53   udp   CON  0.000986     146     178    31    29      0  ...   \n",
              "1  Japan  14724   tcp   FIN  0.038480    8928     320    31    29      4  ...   \n",
              "2  Japan     53   udp   CON  0.001026     130     162    31    29      0  ...   \n",
              "3  Japan   5190   tcp   FIN  0.005645    1064    2260    31    29      4  ...   \n",
              "4  Japan     80   tcp   FIN  0.020018    1036     824    31    29      2  ...   \n",
              "\n",
              "   ct_srv_src ct_srv_dst  ct_dst_ltm  ct_src_ ltm  ct_src_dport_ltm  \\\n",
              "0          13         13           6            7                 1   \n",
              "1           8         20           7            5                 1   \n",
              "2           8         13           6            5                 1   \n",
              "3          13          9           1            7                 2   \n",
              "4          18         13           6            5                 2   \n",
              "\n",
              "   ct_dst_sport_ltm  ct_dst_src_ltm  attack_cat  Label  duration  \n",
              "0                 1               2      Normal      0         0  \n",
              "1                 1               4      Normal      0         0  \n",
              "2                 1               1      Normal      0         0  \n",
              "3                 1               1      Normal      0         0  \n",
              "4                 1               1      Normal      0         0  \n",
              "\n",
              "[5 rows x 46 columns]"
            ],
            "text/html": [
              "\n",
              "  <div id=\"df-e98fac42-338a-4c19-bf56-ac752a536304\" class=\"colab-df-container\">\n",
              "    <div>\n",
              "<style scoped>\n",
              "    .dataframe tbody tr th:only-of-type {\n",
              "        vertical-align: middle;\n",
              "    }\n",
              "\n",
              "    .dataframe tbody tr th {\n",
              "        vertical-align: top;\n",
              "    }\n",
              "\n",
              "    .dataframe thead th {\n",
              "        text-align: right;\n",
              "    }\n",
              "</style>\n",
              "<table border=\"1\" class=\"dataframe\">\n",
              "  <thead>\n",
              "    <tr style=\"text-align: right;\">\n",
              "      <th></th>\n",
              "      <th>srcip</th>\n",
              "      <th>dsport</th>\n",
              "      <th>proto</th>\n",
              "      <th>state</th>\n",
              "      <th>dur</th>\n",
              "      <th>sbytes</th>\n",
              "      <th>dbytes</th>\n",
              "      <th>sttl</th>\n",
              "      <th>dttl</th>\n",
              "      <th>sloss</th>\n",
              "      <th>...</th>\n",
              "      <th>ct_srv_src</th>\n",
              "      <th>ct_srv_dst</th>\n",
              "      <th>ct_dst_ltm</th>\n",
              "      <th>ct_src_ ltm</th>\n",
              "      <th>ct_src_dport_ltm</th>\n",
              "      <th>ct_dst_sport_ltm</th>\n",
              "      <th>ct_dst_src_ltm</th>\n",
              "      <th>attack_cat</th>\n",
              "      <th>Label</th>\n",
              "      <th>duration</th>\n",
              "    </tr>\n",
              "  </thead>\n",
              "  <tbody>\n",
              "    <tr>\n",
              "      <th>0</th>\n",
              "      <td>Japan</td>\n",
              "      <td>53</td>\n",
              "      <td>udp</td>\n",
              "      <td>CON</td>\n",
              "      <td>0.000986</td>\n",
              "      <td>146</td>\n",
              "      <td>178</td>\n",
              "      <td>31</td>\n",
              "      <td>29</td>\n",
              "      <td>0</td>\n",
              "      <td>...</td>\n",
              "      <td>13</td>\n",
              "      <td>13</td>\n",
              "      <td>6</td>\n",
              "      <td>7</td>\n",
              "      <td>1</td>\n",
              "      <td>1</td>\n",
              "      <td>2</td>\n",
              "      <td>Normal</td>\n",
              "      <td>0</td>\n",
              "      <td>0</td>\n",
              "    </tr>\n",
              "    <tr>\n",
              "      <th>1</th>\n",
              "      <td>Japan</td>\n",
              "      <td>14724</td>\n",
              "      <td>tcp</td>\n",
              "      <td>FIN</td>\n",
              "      <td>0.038480</td>\n",
              "      <td>8928</td>\n",
              "      <td>320</td>\n",
              "      <td>31</td>\n",
              "      <td>29</td>\n",
              "      <td>4</td>\n",
              "      <td>...</td>\n",
              "      <td>8</td>\n",
              "      <td>20</td>\n",
              "      <td>7</td>\n",
              "      <td>5</td>\n",
              "      <td>1</td>\n",
              "      <td>1</td>\n",
              "      <td>4</td>\n",
              "      <td>Normal</td>\n",
              "      <td>0</td>\n",
              "      <td>0</td>\n",
              "    </tr>\n",
              "    <tr>\n",
              "      <th>2</th>\n",
              "      <td>Japan</td>\n",
              "      <td>53</td>\n",
              "      <td>udp</td>\n",
              "      <td>CON</td>\n",
              "      <td>0.001026</td>\n",
              "      <td>130</td>\n",
              "      <td>162</td>\n",
              "      <td>31</td>\n",
              "      <td>29</td>\n",
              "      <td>0</td>\n",
              "      <td>...</td>\n",
              "      <td>8</td>\n",
              "      <td>13</td>\n",
              "      <td>6</td>\n",
              "      <td>5</td>\n",
              "      <td>1</td>\n",
              "      <td>1</td>\n",
              "      <td>1</td>\n",
              "      <td>Normal</td>\n",
              "      <td>0</td>\n",
              "      <td>0</td>\n",
              "    </tr>\n",
              "    <tr>\n",
              "      <th>3</th>\n",
              "      <td>Japan</td>\n",
              "      <td>5190</td>\n",
              "      <td>tcp</td>\n",
              "      <td>FIN</td>\n",
              "      <td>0.005645</td>\n",
              "      <td>1064</td>\n",
              "      <td>2260</td>\n",
              "      <td>31</td>\n",
              "      <td>29</td>\n",
              "      <td>4</td>\n",
              "      <td>...</td>\n",
              "      <td>13</td>\n",
              "      <td>9</td>\n",
              "      <td>1</td>\n",
              "      <td>7</td>\n",
              "      <td>2</td>\n",
              "      <td>1</td>\n",
              "      <td>1</td>\n",
              "      <td>Normal</td>\n",
              "      <td>0</td>\n",
              "      <td>0</td>\n",
              "    </tr>\n",
              "    <tr>\n",
              "      <th>4</th>\n",
              "      <td>Japan</td>\n",
              "      <td>80</td>\n",
              "      <td>tcp</td>\n",
              "      <td>FIN</td>\n",
              "      <td>0.020018</td>\n",
              "      <td>1036</td>\n",
              "      <td>824</td>\n",
              "      <td>31</td>\n",
              "      <td>29</td>\n",
              "      <td>2</td>\n",
              "      <td>...</td>\n",
              "      <td>18</td>\n",
              "      <td>13</td>\n",
              "      <td>6</td>\n",
              "      <td>5</td>\n",
              "      <td>2</td>\n",
              "      <td>1</td>\n",
              "      <td>1</td>\n",
              "      <td>Normal</td>\n",
              "      <td>0</td>\n",
              "      <td>0</td>\n",
              "    </tr>\n",
              "  </tbody>\n",
              "</table>\n",
              "<p>5 rows × 46 columns</p>\n",
              "</div>\n",
              "    <div class=\"colab-df-buttons\">\n",
              "\n",
              "  <div class=\"colab-df-container\">\n",
              "    <button class=\"colab-df-convert\" onclick=\"convertToInteractive('df-e98fac42-338a-4c19-bf56-ac752a536304')\"\n",
              "            title=\"Convert this dataframe to an interactive table.\"\n",
              "            style=\"display:none;\">\n",
              "\n",
              "  <svg xmlns=\"http://www.w3.org/2000/svg\" height=\"24px\" viewBox=\"0 -960 960 960\">\n",
              "    <path d=\"M120-120v-720h720v720H120Zm60-500h600v-160H180v160Zm220 220h160v-160H400v160Zm0 220h160v-160H400v160ZM180-400h160v-160H180v160Zm440 0h160v-160H620v160ZM180-180h160v-160H180v160Zm440 0h160v-160H620v160Z\"/>\n",
              "  </svg>\n",
              "    </button>\n",
              "\n",
              "  <style>\n",
              "    .colab-df-container {\n",
              "      display:flex;\n",
              "      gap: 12px;\n",
              "    }\n",
              "\n",
              "    .colab-df-convert {\n",
              "      background-color: #E8F0FE;\n",
              "      border: none;\n",
              "      border-radius: 50%;\n",
              "      cursor: pointer;\n",
              "      display: none;\n",
              "      fill: #1967D2;\n",
              "      height: 32px;\n",
              "      padding: 0 0 0 0;\n",
              "      width: 32px;\n",
              "    }\n",
              "\n",
              "    .colab-df-convert:hover {\n",
              "      background-color: #E2EBFA;\n",
              "      box-shadow: 0px 1px 2px rgba(60, 64, 67, 0.3), 0px 1px 3px 1px rgba(60, 64, 67, 0.15);\n",
              "      fill: #174EA6;\n",
              "    }\n",
              "\n",
              "    .colab-df-buttons div {\n",
              "      margin-bottom: 4px;\n",
              "    }\n",
              "\n",
              "    [theme=dark] .colab-df-convert {\n",
              "      background-color: #3B4455;\n",
              "      fill: #D2E3FC;\n",
              "    }\n",
              "\n",
              "    [theme=dark] .colab-df-convert:hover {\n",
              "      background-color: #434B5C;\n",
              "      box-shadow: 0px 1px 3px 1px rgba(0, 0, 0, 0.15);\n",
              "      filter: drop-shadow(0px 1px 2px rgba(0, 0, 0, 0.3));\n",
              "      fill: #FFFFFF;\n",
              "    }\n",
              "  </style>\n",
              "\n",
              "    <script>\n",
              "      const buttonEl =\n",
              "        document.querySelector('#df-e98fac42-338a-4c19-bf56-ac752a536304 button.colab-df-convert');\n",
              "      buttonEl.style.display =\n",
              "        google.colab.kernel.accessAllowed ? 'block' : 'none';\n",
              "\n",
              "      async function convertToInteractive(key) {\n",
              "        const element = document.querySelector('#df-e98fac42-338a-4c19-bf56-ac752a536304');\n",
              "        const dataTable =\n",
              "          await google.colab.kernel.invokeFunction('convertToInteractive',\n",
              "                                                    [key], {});\n",
              "        if (!dataTable) return;\n",
              "\n",
              "        const docLinkHtml = 'Like what you see? Visit the ' +\n",
              "          '<a target=\"_blank\" href=https://colab.research.google.com/notebooks/data_table.ipynb>data table notebook</a>'\n",
              "          + ' to learn more about interactive tables.';\n",
              "        element.innerHTML = '';\n",
              "        dataTable['output_type'] = 'display_data';\n",
              "        await google.colab.output.renderOutput(dataTable, element);\n",
              "        const docLink = document.createElement('div');\n",
              "        docLink.innerHTML = docLinkHtml;\n",
              "        element.appendChild(docLink);\n",
              "      }\n",
              "    </script>\n",
              "  </div>\n",
              "\n",
              "\n",
              "<div id=\"df-710bb899-c990-4f37-9ffb-7169292e9684\">\n",
              "  <button class=\"colab-df-quickchart\" onclick=\"quickchart('df-710bb899-c990-4f37-9ffb-7169292e9684')\"\n",
              "            title=\"Suggest charts\"\n",
              "            style=\"display:none;\">\n",
              "\n",
              "<svg xmlns=\"http://www.w3.org/2000/svg\" height=\"24px\"viewBox=\"0 0 24 24\"\n",
              "     width=\"24px\">\n",
              "    <g>\n",
              "        <path d=\"M19 3H5c-1.1 0-2 .9-2 2v14c0 1.1.9 2 2 2h14c1.1 0 2-.9 2-2V5c0-1.1-.9-2-2-2zM9 17H7v-7h2v7zm4 0h-2V7h2v10zm4 0h-2v-4h2v4z\"/>\n",
              "    </g>\n",
              "</svg>\n",
              "  </button>\n",
              "\n",
              "<style>\n",
              "  .colab-df-quickchart {\n",
              "      --bg-color: #E8F0FE;\n",
              "      --fill-color: #1967D2;\n",
              "      --hover-bg-color: #E2EBFA;\n",
              "      --hover-fill-color: #174EA6;\n",
              "      --disabled-fill-color: #AAA;\n",
              "      --disabled-bg-color: #DDD;\n",
              "  }\n",
              "\n",
              "  [theme=dark] .colab-df-quickchart {\n",
              "      --bg-color: #3B4455;\n",
              "      --fill-color: #D2E3FC;\n",
              "      --hover-bg-color: #434B5C;\n",
              "      --hover-fill-color: #FFFFFF;\n",
              "      --disabled-bg-color: #3B4455;\n",
              "      --disabled-fill-color: #666;\n",
              "  }\n",
              "\n",
              "  .colab-df-quickchart {\n",
              "    background-color: var(--bg-color);\n",
              "    border: none;\n",
              "    border-radius: 50%;\n",
              "    cursor: pointer;\n",
              "    display: none;\n",
              "    fill: var(--fill-color);\n",
              "    height: 32px;\n",
              "    padding: 0;\n",
              "    width: 32px;\n",
              "  }\n",
              "\n",
              "  .colab-df-quickchart:hover {\n",
              "    background-color: var(--hover-bg-color);\n",
              "    box-shadow: 0 1px 2px rgba(60, 64, 67, 0.3), 0 1px 3px 1px rgba(60, 64, 67, 0.15);\n",
              "    fill: var(--button-hover-fill-color);\n",
              "  }\n",
              "\n",
              "  .colab-df-quickchart-complete:disabled,\n",
              "  .colab-df-quickchart-complete:disabled:hover {\n",
              "    background-color: var(--disabled-bg-color);\n",
              "    fill: var(--disabled-fill-color);\n",
              "    box-shadow: none;\n",
              "  }\n",
              "\n",
              "  .colab-df-spinner {\n",
              "    border: 2px solid var(--fill-color);\n",
              "    border-color: transparent;\n",
              "    border-bottom-color: var(--fill-color);\n",
              "    animation:\n",
              "      spin 1s steps(1) infinite;\n",
              "  }\n",
              "\n",
              "  @keyframes spin {\n",
              "    0% {\n",
              "      border-color: transparent;\n",
              "      border-bottom-color: var(--fill-color);\n",
              "      border-left-color: var(--fill-color);\n",
              "    }\n",
              "    20% {\n",
              "      border-color: transparent;\n",
              "      border-left-color: var(--fill-color);\n",
              "      border-top-color: var(--fill-color);\n",
              "    }\n",
              "    30% {\n",
              "      border-color: transparent;\n",
              "      border-left-color: var(--fill-color);\n",
              "      border-top-color: var(--fill-color);\n",
              "      border-right-color: var(--fill-color);\n",
              "    }\n",
              "    40% {\n",
              "      border-color: transparent;\n",
              "      border-right-color: var(--fill-color);\n",
              "      border-top-color: var(--fill-color);\n",
              "    }\n",
              "    60% {\n",
              "      border-color: transparent;\n",
              "      border-right-color: var(--fill-color);\n",
              "    }\n",
              "    80% {\n",
              "      border-color: transparent;\n",
              "      border-right-color: var(--fill-color);\n",
              "      border-bottom-color: var(--fill-color);\n",
              "    }\n",
              "    90% {\n",
              "      border-color: transparent;\n",
              "      border-bottom-color: var(--fill-color);\n",
              "    }\n",
              "  }\n",
              "</style>\n",
              "\n",
              "  <script>\n",
              "    async function quickchart(key) {\n",
              "      const quickchartButtonEl =\n",
              "        document.querySelector('#' + key + ' button');\n",
              "      quickchartButtonEl.disabled = true;  // To prevent multiple clicks.\n",
              "      quickchartButtonEl.classList.add('colab-df-spinner');\n",
              "      try {\n",
              "        const charts = await google.colab.kernel.invokeFunction(\n",
              "            'suggestCharts', [key], {});\n",
              "      } catch (error) {\n",
              "        console.error('Error during call to suggestCharts:', error);\n",
              "      }\n",
              "      quickchartButtonEl.classList.remove('colab-df-spinner');\n",
              "      quickchartButtonEl.classList.add('colab-df-quickchart-complete');\n",
              "    }\n",
              "    (() => {\n",
              "      let quickchartButtonEl =\n",
              "        document.querySelector('#df-710bb899-c990-4f37-9ffb-7169292e9684 button');\n",
              "      quickchartButtonEl.style.display =\n",
              "        google.colab.kernel.accessAllowed ? 'block' : 'none';\n",
              "    })();\n",
              "  </script>\n",
              "</div>\n",
              "    </div>\n",
              "  </div>\n"
            ],
            "application/vnd.google.colaboratory.intrinsic+json": {
              "type": "dataframe",
              "variable_name": "df"
            }
          },
          "metadata": {},
          "execution_count": 2
        }
      ],
      "source": [
        "#dataset_name = 'cse-cic'\n",
        "dataset_name = 'unsw-nb15'\n",
        "#dataset_name = 'nsl-kdd'\n",
        "\n",
        "data_file = 'df.csv'\n",
        "#data_file = f'{dataset_name}.csv'\n",
        "#data_file = 'cleared_cse-cic_sampled.csv'\n",
        "#data_file = 'cse-cic.csv'\n",
        "\n",
        "df = pd.read_csv(f'./drive/MyDrive/{dataset_name}/{data_file}', low_memory=True, memory_map=True)\n",
        "#df.drop(columns=['Unnamed: 0'], inplace=True)\n",
        "#df.columns = kdd_columns\n",
        "df.head()"
      ]
    },
    {
      "cell_type": "code",
      "execution_count": null,
      "metadata": {
        "colab": {
          "base_uri": "https://localhost:8080/",
          "height": 467
        },
        "id": "ECvMsd47gcne",
        "outputId": "cfab384a-1579-4500-c512-dcfe7a81dab4"
      },
      "outputs": [
        {
          "output_type": "display_data",
          "data": {
            "text/plain": [
              "<Figure size 640x480 with 1 Axes>"
            ],
            "image/png": "[encoded data removed]"
          },
          "metadata": {}
        }
      ],
      "source": [
        "import matplotlib.pyplot as plt\n",
        "\n",
        "\n",
        "frec = df['Label'].value_counts()\n",
        "\n",
        "colors = sns.color_palette('viridis', len(frec))\n",
        "\n",
        "frec.plot(kind='bar', color=colors)\n",
        "plt.title('Frecuencias del País de origen de la conexión')\n",
        "plt.xlabel('Valores')\n",
        "plt.ylabel('Frecuencia')\n",
        "\n",
        "plt.show()"
      ]
    },
    {
      "cell_type": "code",
      "execution_count": null,
      "metadata": {
        "id": "yEu_30bLEsqA"
      },
      "outputs": [],
      "source": [
        "df.to_csv(f'./drive/MyDrive/{dataset_name}/{data_file}', index=False, header=True)\n",
        "df = pd.read_csv(f'./drive/MyDrive/{dataset_name}/{data_file}')"
      ]
    },
    {
      "cell_type": "markdown",
      "metadata": {
        "id": "javWgCNtrdFc"
      },
      "source": []
    },
    {
      "cell_type": "code",
      "execution_count": null,
      "metadata": {
        "id": "WsDEhTyj9IzD"
      },
      "outputs": [],
      "source": [
        "for col in df.columns:\n",
        "    df = df[~df[col].isin([col])]\n",
        "\n",
        "df.reset_index(drop=True, inplace=True)\n",
        "\n",
        "df.replace([np.inf, -np.inf], np.nan, inplace=True)\n",
        "df.dropna(inplace=True)\n",
        "\n",
        "sampled_df = df.groupby('Label').apply(lambda x: x.sample(frac=.25))"
      ]
    },
    {
      "cell_type": "code",
      "execution_count": null,
      "metadata": {
        "id": "ryMP2qzuQlt4"
      },
      "outputs": [],
      "source": [
        "X = df.groupby('Label').apply(lambda x: x.sample(frac=.25)).drop('Label', axis=1)"
      ]
    },
    {
      "cell_type": "code",
      "execution_count": null,
      "metadata": {
        "collapsed": true,
        "id": "RR1HqWeJF5CV",
        "colab": {
          "base_uri": "https://localhost:8080/",
          "height": 1000
        },
        "outputId": "12f4cd48-3d80-4dc8-c3f8-ac8d7f611681"
      },
      "outputs": [
        {
          "output_type": "display_data",
          "data": {
            "text/plain": [
              "<Figure size 800x600 with 1 Axes>"
            ],
            "image/png": "[encoded data removed]"
          },
          "metadata": {}
        },
        {
          "output_type": "display_data",
          "data": {
            "text/plain": [
              "<Figure size 800x600 with 1 Axes>"
            ],
            "image/png": "[encoded data removed]"
          },
          "metadata": {}
        },
        {
          "output_type": "display_data",
          "data": {
            "text/plain": [
              "<Figure size 800x600 with 1 Axes>"
            ],
            "image/png": "[encoded data removed]"
          },
          "metadata": {}
        },
        {
          "output_type": "display_data",
          "data": {
            "text/plain": [
              "<Figure size 800x600 with 1 Axes>"
            ],
            "image/png": "[encoded data removed]"
          },
          "metadata": {}
        },
        {
          "output_type": "display_data",
          "data": {
            "text/plain": [
              "<Figure size 800x600 with 1 Axes>"
            ],
            "image/png": "[encoded data removed]"
          },
          "metadata": {}
        },
        {
          "output_type": "display_data",
          "data": {
            "text/plain": [
              "<Figure size 800x600 with 1 Axes>"
            ],
            "image/png": "[encoded data removed]"
          },
          "metadata": {}
        },
        {
          "output_type": "display_data",
          "data": {
            "text/plain": [
              "<Figure size 800x600 with 1 Axes>"
            ],
            "image/png": "[encoded data removed]"
          },
          "metadata": {}
        },
        {
          "output_type": "display_data",
          "data": {
            "text/plain": [
              "<Figure size 800x600 with 1 Axes>"
            ],
            "image/png": "[encoded data removed]"
          },
          "metadata": {}
        },
        {
          "output_type": "display_data",
          "data": {
            "text/plain": [
              "<Figure size 800x600 with 1 Axes>"
            ],
            "image/png": "[encoded data removed]"
          },
          "metadata": {}
        },
        {
          "output_type": "display_data",
          "data": {
            "text/plain": [
              "<Figure size 800x600 with 1 Axes>"
            ],
            "image/png": "[encoded data removed]"
          },
          "metadata": {}
        },
        {
          "output_type": "display_data",
          "data": {
            "text/plain": [
              "<Figure size 800x600 with 1 Axes>"
            ],
            "image/png": "[encoded data removed]"
          },
          "metadata": {}
        },
        {
          "output_type": "display_data",
          "data": {
            "text/plain": [
              "<Figure size 800x600 with 1 Axes>"
            ],
            "image/png": "[encoded data removed]"
          },
          "metadata": {}
        },
        {
          "output_type": "display_data",
          "data": {
            "text/plain": [
              "<Figure size 800x600 with 1 Axes>"
            ],
            "image/png": "[encoded data removed]"
          },
          "metadata": {}
        },
        {
          "output_type": "display_data",
          "data": {
            "text/plain": [
              "<Figure size 800x600 with 1 Axes>"
            ],
            "image/png": "[encoded data removed]"
          },
          "metadata": {}
        },
        {
          "output_type": "display_data",
          "data": {
            "text/plain": [
              "<Figure size 800x600 with 1 Axes>"
            ],
            "image/png": "[encoded data removed]"
          },
          "metadata": {}
        },
        {
          "output_type": "display_data",
          "data": {
            "text/plain": [
              "<Figure size 800x600 with 1 Axes>"
            ],
            "image/png": "[encoded data removed]"
          },
          "metadata": {}
        }
      ],
      "source": [
        "import pandas as pd\n",
        "import matplotlib.pyplot as plt\n",
        "import scipy.stats as stats\n",
        "\n",
        "for var in sesgadas:\n",
        "    plt.figure(figsize=(8, 6))\n",
        "    (osm, osr), (slope, intercept, r) = stats.probplot(sampled_df[var], dist=\"norm\")\n",
        "    plt.plot(osm, osr, 'o', markerfacecolor='none', markeredgecolor='#1f77b4')\n",
        "    plt.plot(osm, slope*osm + intercept, color='black', lw=1)\n",
        "    plt.title('QQ Plot de la variable ' + var)\n",
        "    plt.tick_params(axis='x', which='both', bottom=True, top=False, labelbottom=False)\n",
        "    plt.tick_params(axis='y', which='both', left=True, right=False, labelleft=False)\n",
        "    plt.grid(False)\n",
        "\n",
        "    plt.xlim([-6, 6])  # Set x-axis limits\n",
        "    # Save the figure before calling plt.show()\n",
        "    plt.savefig(f'{var.replace(\"/\", \"_\")}_qqplot.png', dpi=300, bbox_inches='tight')\n",
        "\n",
        "    plt.show()"
      ]
    },
    {
      "cell_type": "code",
      "source": [
        "!zip  qqplots_unsw.zip *.png"
      ],
      "metadata": {
        "id": "AL1BUtqDzWd5"
      },
      "execution_count": null,
      "outputs": []
    },
    {
      "cell_type": "code",
      "source": [
        "import pandas as pd\n",
        "import numpy as np\n",
        "import matplotlib.pyplot as plt\n",
        "import seaborn as sns\n",
        "from sklearn.preprocessing import OneHotEncoder\n",
        "\n",
        "matriz_correlacion = pd.read_csv('/content/drive/MyDrive/unsw-nb15/results/corr_matrix.csv', index_col=0)\n",
        "\n",
        "plt.figure(figsize=(20, 20))\n",
        "\n",
        "# Generar el heatmap\n",
        "sns.heatmap(matriz_correlacion[(matriz_correlacion >= 0.5) | (matriz_correlacion <= -0.5)],\n",
        "            cmap='viridis', vmax=1.0, vmin=-1.0, linewidths=0.3,\n",
        "            annot=False, square=True, cbar_kws={'shrink': .5},\n",
        "            xticklabels=matriz_correlacion.columns, yticklabels=matriz_correlacion.columns)\n",
        "\n",
        "plt.ylabel('')\n",
        "plt.xlabel('')\n",
        "\n",
        "# Aumentar el tamaño de la fuente de las etiquetas de los ejes\n",
        "plt.yticks(fontsize=10)\n",
        "plt.xticks(fontsize=10)\n",
        "\n",
        "# Título del gráfico\n",
        "plt.title('  ')\n",
        "\n",
        "# Mostrar el gráfico\n",
        "plt.show()"
      ],
      "metadata": {
        "colab": {
          "base_uri": "https://localhost:8080/",
          "height": 1000
        },
        "id": "0VVQGPlkAvfa",
        "outputId": "9f41fd85-7602-4441-d854-44a12e107436"
      },
      "execution_count": null,
      "outputs": [
        {
          "output_type": "display_data",
          "data": {
            "text/plain": [
              "<Figure size 2000x2000 with 2 Axes>"
            ],
            "image/png": "[encoded data removed]"
          },
          "metadata": {}
        }
      ]
    },
    {
      "cell_type": "code",
      "source": [
        "import pandas as pd\n",
        "import numpy as np\n",
        "import matplotlib.pyplot as plt\n",
        "import seaborn as sns\n",
        "from sklearn.preprocessing import OneHotEncoder\n",
        "\n",
        "\n",
        "\n",
        "# Calcular la matriz de correlación\n",
        "matriz_correlacion = df.corr()\n",
        "\n",
        "plt.figure(figsize=(30, 30))\n",
        "\n",
        "sns.heatmap(matriz_correlacion[(matriz_correlacion >= 0.5) | (matriz_correlacion <= -0.4)],\n",
        "            cmap='viridis', vmax=1.0, vmin=-1.0, linewidths=0.3,\n",
        "            annot=False, square=True, cbar_kws={'shrink': .5})\n",
        "\n",
        "# Aumentar el tamaño de la fuente de las etiquetas de los ejes\n",
        "plt.yticks(fontsize=17)\n",
        "plt.xticks(fontsize=17)\n",
        "\n",
        "plt.title('  ')\n",
        "\n",
        "plt.show()"
      ],
      "metadata": {
        "colab": {
          "base_uri": "https://localhost:8080/",
          "height": 364
        },
        "id": "e0Sn7a24Aaw2",
        "outputId": "0d76a47d-2c6f-4a76-8857-bda1bd0be62e"
      },
      "execution_count": null,
      "outputs": [
        {
          "output_type": "error",
          "ename": "ValueError",
          "evalue": "could not convert string to float: 'Japan'",
          "traceback": [
            "\u001b[0;31m---------------------------------------------------------------------------\u001b[0m",
            "\u001b[0;31mValueError\u001b[0m                                Traceback (most recent call last)",
            "\u001b[0;32m<ipython-input-14-75e56bd48262>\u001b[0m in \u001b[0;36m<cell line: 10>\u001b[0;34m()\u001b[0m\n\u001b[1;32m      8\u001b[0m \u001b[0;34m\u001b[0m\u001b[0m\n\u001b[1;32m      9\u001b[0m \u001b[0;31m# Calcular la matriz de correlación\u001b[0m\u001b[0;34m\u001b[0m\u001b[0;34m\u001b[0m\u001b[0m\n\u001b[0;32m---> 10\u001b[0;31m \u001b[0mmatriz_correlacion\u001b[0m \u001b[0;34m=\u001b[0m \u001b[0mdf\u001b[0m\u001b[0;34m.\u001b[0m\u001b[0mcorr\u001b[0m\u001b[0;34m(\u001b[0m\u001b[0;34m)\u001b[0m\u001b[0;34m\u001b[0m\u001b[0;34m\u001b[0m\u001b[0m\n\u001b[0m\u001b[1;32m     11\u001b[0m \u001b[0;34m\u001b[0m\u001b[0m\n\u001b[1;32m     12\u001b[0m \u001b[0mplt\u001b[0m\u001b[0;34m.\u001b[0m\u001b[0mfigure\u001b[0m\u001b[0;34m(\u001b[0m\u001b[0mfigsize\u001b[0m\u001b[0;34m=\u001b[0m\u001b[0;34m(\u001b[0m\u001b[0;36m30\u001b[0m\u001b[0;34m,\u001b[0m \u001b[0;36m30\u001b[0m\u001b[0;34m)\u001b[0m\u001b[0;34m)\u001b[0m\u001b[0;34m\u001b[0m\u001b[0;34m\u001b[0m\u001b[0m\n",
            "\u001b[0;32m/usr/local/lib/python3.10/dist-packages/pandas/core/frame.py\u001b[0m in \u001b[0;36mcorr\u001b[0;34m(self, method, min_periods, numeric_only)\u001b[0m\n\u001b[1;32m  10052\u001b[0m         \u001b[0mcols\u001b[0m \u001b[0;34m=\u001b[0m \u001b[0mdata\u001b[0m\u001b[0;34m.\u001b[0m\u001b[0mcolumns\u001b[0m\u001b[0;34m\u001b[0m\u001b[0;34m\u001b[0m\u001b[0m\n\u001b[1;32m  10053\u001b[0m         \u001b[0midx\u001b[0m \u001b[0;34m=\u001b[0m \u001b[0mcols\u001b[0m\u001b[0;34m.\u001b[0m\u001b[0mcopy\u001b[0m\u001b[0;34m(\u001b[0m\u001b[0;34m)\u001b[0m\u001b[0;34m\u001b[0m\u001b[0;34m\u001b[0m\u001b[0m\n\u001b[0;32m> 10054\u001b[0;31m         \u001b[0mmat\u001b[0m \u001b[0;34m=\u001b[0m \u001b[0mdata\u001b[0m\u001b[0;34m.\u001b[0m\u001b[0mto_numpy\u001b[0m\u001b[0;34m(\u001b[0m\u001b[0mdtype\u001b[0m\u001b[0;34m=\u001b[0m\u001b[0mfloat\u001b[0m\u001b[0;34m,\u001b[0m \u001b[0mna_value\u001b[0m\u001b[0;34m=\u001b[0m\u001b[0mnp\u001b[0m\u001b[0;34m.\u001b[0m\u001b[0mnan\u001b[0m\u001b[0;34m,\u001b[0m \u001b[0mcopy\u001b[0m\u001b[0;34m=\u001b[0m\u001b[0;32mFalse\u001b[0m\u001b[0;34m)\u001b[0m\u001b[0;34m\u001b[0m\u001b[0;34m\u001b[0m\u001b[0m\n\u001b[0m\u001b[1;32m  10055\u001b[0m \u001b[0;34m\u001b[0m\u001b[0m\n\u001b[1;32m  10056\u001b[0m         \u001b[0;32mif\u001b[0m \u001b[0mmethod\u001b[0m \u001b[0;34m==\u001b[0m \u001b[0;34m\"pearson\"\u001b[0m\u001b[0;34m:\u001b[0m\u001b[0;34m\u001b[0m\u001b[0;34m\u001b[0m\u001b[0m\n",
            "\u001b[0;32m/usr/local/lib/python3.10/dist-packages/pandas/core/frame.py\u001b[0m in \u001b[0;36mto_numpy\u001b[0;34m(self, dtype, copy, na_value)\u001b[0m\n\u001b[1;32m   1836\u001b[0m         \u001b[0;32mif\u001b[0m \u001b[0mdtype\u001b[0m \u001b[0;32mis\u001b[0m \u001b[0;32mnot\u001b[0m \u001b[0;32mNone\u001b[0m\u001b[0;34m:\u001b[0m\u001b[0;34m\u001b[0m\u001b[0;34m\u001b[0m\u001b[0m\n\u001b[1;32m   1837\u001b[0m             \u001b[0mdtype\u001b[0m \u001b[0;34m=\u001b[0m \u001b[0mnp\u001b[0m\u001b[0;34m.\u001b[0m\u001b[0mdtype\u001b[0m\u001b[0;34m(\u001b[0m\u001b[0mdtype\u001b[0m\u001b[0;34m)\u001b[0m\u001b[0;34m\u001b[0m\u001b[0;34m\u001b[0m\u001b[0m\n\u001b[0;32m-> 1838\u001b[0;31m         \u001b[0mresult\u001b[0m \u001b[0;34m=\u001b[0m \u001b[0mself\u001b[0m\u001b[0;34m.\u001b[0m\u001b[0m_mgr\u001b[0m\u001b[0;34m.\u001b[0m\u001b[0mas_array\u001b[0m\u001b[0;34m(\u001b[0m\u001b[0mdtype\u001b[0m\u001b[0;34m=\u001b[0m\u001b[0mdtype\u001b[0m\u001b[0;34m,\u001b[0m \u001b[0mcopy\u001b[0m\u001b[0;34m=\u001b[0m\u001b[0mcopy\u001b[0m\u001b[0;34m,\u001b[0m \u001b[0mna_value\u001b[0m\u001b[0;34m=\u001b[0m\u001b[0mna_value\u001b[0m\u001b[0;34m)\u001b[0m\u001b[0;34m\u001b[0m\u001b[0;34m\u001b[0m\u001b[0m\n\u001b[0m\u001b[1;32m   1839\u001b[0m         \u001b[0;32mif\u001b[0m \u001b[0mresult\u001b[0m\u001b[0;34m.\u001b[0m\u001b[0mdtype\u001b[0m \u001b[0;32mis\u001b[0m \u001b[0;32mnot\u001b[0m \u001b[0mdtype\u001b[0m\u001b[0;34m:\u001b[0m\u001b[0;34m\u001b[0m\u001b[0;34m\u001b[0m\u001b[0m\n\u001b[1;32m   1840\u001b[0m             \u001b[0mresult\u001b[0m \u001b[0;34m=\u001b[0m \u001b[0mnp\u001b[0m\u001b[0;34m.\u001b[0m\u001b[0marray\u001b[0m\u001b[0;34m(\u001b[0m\u001b[0mresult\u001b[0m\u001b[0;34m,\u001b[0m \u001b[0mdtype\u001b[0m\u001b[0;34m=\u001b[0m\u001b[0mdtype\u001b[0m\u001b[0;34m,\u001b[0m \u001b[0mcopy\u001b[0m\u001b[0;34m=\u001b[0m\u001b[0;32mFalse\u001b[0m\u001b[0;34m)\u001b[0m\u001b[0;34m\u001b[0m\u001b[0;34m\u001b[0m\u001b[0m\n",
            "\u001b[0;32m/usr/local/lib/python3.10/dist-packages/pandas/core/internals/managers.py\u001b[0m in \u001b[0;36mas_array\u001b[0;34m(self, dtype, copy, na_value)\u001b[0m\n\u001b[1;32m   1730\u001b[0m                 \u001b[0marr\u001b[0m\u001b[0;34m.\u001b[0m\u001b[0mflags\u001b[0m\u001b[0;34m.\u001b[0m\u001b[0mwriteable\u001b[0m \u001b[0;34m=\u001b[0m \u001b[0;32mFalse\u001b[0m\u001b[0;34m\u001b[0m\u001b[0;34m\u001b[0m\u001b[0m\n\u001b[1;32m   1731\u001b[0m         \u001b[0;32melse\u001b[0m\u001b[0;34m:\u001b[0m\u001b[0;34m\u001b[0m\u001b[0;34m\u001b[0m\u001b[0m\n\u001b[0;32m-> 1732\u001b[0;31m             \u001b[0marr\u001b[0m \u001b[0;34m=\u001b[0m \u001b[0mself\u001b[0m\u001b[0;34m.\u001b[0m\u001b[0m_interleave\u001b[0m\u001b[0;34m(\u001b[0m\u001b[0mdtype\u001b[0m\u001b[0;34m=\u001b[0m\u001b[0mdtype\u001b[0m\u001b[0;34m,\u001b[0m \u001b[0mna_value\u001b[0m\u001b[0;34m=\u001b[0m\u001b[0mna_value\u001b[0m\u001b[0;34m)\u001b[0m\u001b[0;34m\u001b[0m\u001b[0;34m\u001b[0m\u001b[0m\n\u001b[0m\u001b[1;32m   1733\u001b[0m             \u001b[0;31m# The underlying data was copied within _interleave, so no need\u001b[0m\u001b[0;34m\u001b[0m\u001b[0;34m\u001b[0m\u001b[0m\n\u001b[1;32m   1734\u001b[0m             \u001b[0;31m# to further copy if copy=True or setting na_value\u001b[0m\u001b[0;34m\u001b[0m\u001b[0;34m\u001b[0m\u001b[0m\n",
            "\u001b[0;32m/usr/local/lib/python3.10/dist-packages/pandas/core/internals/managers.py\u001b[0m in \u001b[0;36m_interleave\u001b[0;34m(self, dtype, na_value)\u001b[0m\n\u001b[1;32m   1792\u001b[0m             \u001b[0;32melse\u001b[0m\u001b[0;34m:\u001b[0m\u001b[0;34m\u001b[0m\u001b[0;34m\u001b[0m\u001b[0m\n\u001b[1;32m   1793\u001b[0m                 \u001b[0marr\u001b[0m \u001b[0;34m=\u001b[0m \u001b[0mblk\u001b[0m\u001b[0;34m.\u001b[0m\u001b[0mget_values\u001b[0m\u001b[0;34m(\u001b[0m\u001b[0mdtype\u001b[0m\u001b[0;34m)\u001b[0m\u001b[0;34m\u001b[0m\u001b[0;34m\u001b[0m\u001b[0m\n\u001b[0;32m-> 1794\u001b[0;31m             \u001b[0mresult\u001b[0m\u001b[0;34m[\u001b[0m\u001b[0mrl\u001b[0m\u001b[0;34m.\u001b[0m\u001b[0mindexer\u001b[0m\u001b[0;34m]\u001b[0m \u001b[0;34m=\u001b[0m \u001b[0marr\u001b[0m\u001b[0;34m\u001b[0m\u001b[0;34m\u001b[0m\u001b[0m\n\u001b[0m\u001b[1;32m   1795\u001b[0m             \u001b[0mitemmask\u001b[0m\u001b[0;34m[\u001b[0m\u001b[0mrl\u001b[0m\u001b[0;34m.\u001b[0m\u001b[0mindexer\u001b[0m\u001b[0;34m]\u001b[0m \u001b[0;34m=\u001b[0m \u001b[0;36m1\u001b[0m\u001b[0;34m\u001b[0m\u001b[0;34m\u001b[0m\u001b[0m\n\u001b[1;32m   1796\u001b[0m \u001b[0;34m\u001b[0m\u001b[0m\n",
            "\u001b[0;31mValueError\u001b[0m: could not convert string to float: 'Japan'"
          ]
        }
      ]
    },
    {
      "cell_type": "code",
      "execution_count": null,
      "metadata": {
        "id": "th1MKzfsPB7Z"
      },
      "outputs": [],
      "source": [
        "import pandas as pd\n",
        "from sklearn.manifold import TSNE\n",
        "import matplotlib.pyplot as plt\n",
        "\n",
        "# Procedimiento para generar el gráfico 2D t-SNE\n",
        "def plot_tsne(X, perplexity=30, learning_rate=200, n_iter=1000, random_state=42):\n",
        "    \"\"\"\n",
        "    Genera un gráfico 2D t-SNE para demostrar la no linealidad del dataset.\n",
        "\n",
        "    Parámetros:\n",
        "    - X: DataFrame de pandas con las variables predictoras.\n",
        "    - perplexity: Perplejidad de t-SNE (default=30).\n",
        "    - learning_rate: Tasa de aprendizaje de t-SNE (default=200).\n",
        "    - n_iter: Número de iteraciones para la optimización (default=1000).\n",
        "    - random_state: Estado aleatorio para reproducibilidad (default=42).\n",
        "    \"\"\"\n",
        "\n",
        "    # Configuración y ajuste de t-SNE\n",
        "    tsne = TSNE(n_components=2, perplexity=perplexity, learning_rate=learning_rate, n_iter=n_iter, random_state=random_state)\n",
        "    X_embedded = tsne.fit_transform(X)\n",
        "\n",
        "    # Crear el gráfico\n",
        "    plt.figure(figsize=(10, 8))\n",
        "    plt.scatter(X_embedded[:, 0], X_embedded[:, 1], c='blue', cmap='viridis')\n",
        "    plt.title(f'Gráfico 2D t-SNE - {dataset_name}')\n",
        "    plt.xlabel('Componente 1')\n",
        "    plt.ylabel('Componente 2')\n",
        "    plt.show()\n",
        "\n",
        "plot_tsne(X)"
      ]
    },
    {
      "cell_type": "code",
      "execution_count": null,
      "metadata": {
        "id": "6OoClMLvGRcp"
      },
      "outputs": [],
      "source": [
        "!zip  qqplots.zip *.png"
      ]
    },
    {
      "cell_type": "code",
      "execution_count": null,
      "metadata": {
        "id": "hlLT8J5n3Ydf"
      },
      "outputs": [],
      "source": [
        "random_state = 42\n",
        "\n",
        "sampled_df = df.groupby('Label').apply(lambda x: x.sample(frac=.25))\n",
        "\n",
        "cfg = Settings()\n",
        "cfg.infer_dtypes = False\n",
        "cfg.correlations[\"auto\"].calculate = True\n",
        "cfg.correlations[\"pearson\"].calculate = False\n",
        "cfg.correlations[\"spearman\"].calculate = False  # No calcular correlaciones de Spearman\n",
        "cfg.correlations[\"kendall\"].calculate = False  # No calcular correlaciones de Kendall\n",
        "cfg.correlations[\"phi_k\"].calculate = False  # No calcular coeficiente de correlación phi_k\n",
        "cfg.correlations[\"cramers\"].calculate = False  # No calcular coeficiente de correlación Cramers\n",
        "cfg.interactions.continuous = False\n",
        "cfg.missing_diagrams[\"bar\"] = False\n",
        "cfg.missing_diagrams[\"heatmap\"] = False  # Mantener heatmap para visualizar valores perdidos\n",
        "cfg.missing_diagrams[\"matrix\"] = False\n",
        "cfg.samples.tail = 0\n",
        "cfg.samples.random = 0\n",
        "\n",
        "profile = ProfileReport(\n",
        "    sampled_df.drop('Label', axis=1),\n",
        "    title='UNSW - EDA',\n",
        "    config=cfg\n",
        ")"
      ]
    },
    {
      "cell_type": "code",
      "execution_count": null,
      "metadata": {
        "colab": {
          "base_uri": "https://localhost:8080/",
          "height": 201,
          "referenced_widgets": [
            "a0ef5658f0c0465a8236e56dcc3c1d54",
            "1af53397f3fd4963a83714bc376dc84e",
            "6cc3287a85f54032860dce2742d79d3f",
            "f60fb442ec514fd0be006a4deaac9e20",
            "1ed3f7966a1b430c93a6527f05c5a52d",
            "3d977cebbdb44c1c80398dc72211a6dc",
            "a6b71eddfbff4c9282b635582e7fb1a1",
            "bd88947b79f6419288a229c2a6dc10ee",
            "a58db17aaf6d422f888ce2a53e552dc6",
            "27b272c760ce42e29d4bff877557417d",
            "6d3556e69c474a3683c60fac803d593b",
            "352d4aa8f1ac4c6b9b55a269fa89b5e2",
            "288c2358620c4925bbe36916736d09c6",
            "e630ec5addbf4344937e072d026403db",
            "f14bc64088e046e7acee11a1e0baf134",
            "7e6742dbe57a4fa09dced1492161c67f",
            "a74e82a1fb924e75a1dc754a7ca97c96",
            "f52404c5cd824d8090a5796c70373023",
            "0df3710acce44eab951b61193f5a143b",
            "c95968cba8784e379933c75566537f17",
            "ec3170c8814b4e189a788be5b9137ece",
            "274ba92e0d5f443b886ec0cc2dece9cf",
            "36bf267a504a49f2b272e70ff764cd68",
            "0bbfdd9b09274983a16654cf49942f71",
            "64b3e00f1d6340169c1ab570e1b78c9e",
            "332a6671679a4b91a6dff82da9d8b5fb",
            "ff3f6f65b8de41608d89488979370dc1",
            "d1b812acc30e4c739850993b24f88e17",
            "508e002bbc2e40288ae8cf15f092a14f",
            "47fe4c30242a416bb9cf48df73a80dd0",
            "b533721c18ed45cd91957544691c3074",
            "ccbc6d19bb9e4089889adcd08df037b4",
            "514ba9ae2be74ada99c80cf8f7696a73",
            "69517264196243609ced512212ddf790",
            "c9db1e80cece4440927bb901060b3bf3",
            "7b2670a5f1d64f1d8c6e5b65b1649b4f",
            "3dbcb9edb0a54a93bca5572caea9aebe",
            "c587af1c3357464eb74207b8e42c2a1b",
            "26c49452fdfc4b8ba853c41eee281d6b",
            "d8db3d0c5c6b446db5ef763b0d658193",
            "091c9a35d7bd485bbb261155d00965ef",
            "228969ba92ac468388c8e0e0d744d239",
            "142f43fdd3a34ef3aad5b487369ca248",
            "53f79e0b73b94095bd162ad62c9ed011"
          ]
        },
        "id": "VpoFOJ8r3YbI",
        "outputId": "48f18b7c-3613-497b-c046-b0a52c85af5c"
      },
      "outputs": [
        {
          "output_type": "stream",
          "name": "stderr",
          "text": [
            "/usr/local/lib/python3.10/dist-packages/ydata_profiling/profile_report.py:363: UserWarning: Try running command: 'pip install --upgrade Pillow' to avoid ValueError\n",
            "  warnings.warn(\n"
          ]
        },
        {
          "output_type": "display_data",
          "data": {
            "text/plain": [
              "Summarize dataset:   0%|          | 0/5 [00:00<?, ?it/s]"
            ],
            "application/vnd.jupyter.widget-view+json": {
              "version_major": 2,
              "version_minor": 0,
              "model_id": "a0ef5658f0c0465a8236e56dcc3c1d54"
            }
          },
          "metadata": {}
        },
        {
          "output_type": "display_data",
          "data": {
            "text/plain": [
              "Generate report structure:   0%|          | 0/1 [00:00<?, ?it/s]"
            ],
            "application/vnd.jupyter.widget-view+json": {
              "version_major": 2,
              "version_minor": 0,
              "model_id": "352d4aa8f1ac4c6b9b55a269fa89b5e2"
            }
          },
          "metadata": {}
        },
        {
          "output_type": "display_data",
          "data": {
            "text/plain": [
              "Render HTML:   0%|          | 0/1 [00:00<?, ?it/s]"
            ],
            "application/vnd.jupyter.widget-view+json": {
              "version_major": 2,
              "version_minor": 0,
              "model_id": "36bf267a504a49f2b272e70ff764cd68"
            }
          },
          "metadata": {}
        },
        {
          "output_type": "display_data",
          "data": {
            "text/plain": [
              "Export report to file:   0%|          | 0/1 [00:00<?, ?it/s]"
            ],
            "application/vnd.jupyter.widget-view+json": {
              "version_major": 2,
              "version_minor": 0,
              "model_id": "69517264196243609ced512212ddf790"
            }
          },
          "metadata": {}
        }
      ],
      "source": [
        "#profile.to_file(f'./drive/MyDrive/{dataset_name}/EDA_UNSW-NB15.html')\n",
        "profile.to_file(f'./EDA.html')"
      ]
    },
    {
      "cell_type": "code",
      "execution_count": null,
      "metadata": {
        "id": "foNOZm3flKdR"
      },
      "outputs": [],
      "source": [
        "profile"
      ]
    },
    {
      "cell_type": "code",
      "execution_count": null,
      "metadata": {
        "id": "LRXQsfUXmLNE"
      },
      "outputs": [],
      "source": [
        "umbral = 0.9\n",
        "\n",
        "ceros_por_columna = (df == 0).sum() / len(df)\n",
        "caracteristicas_a_eliminar = ceros_por_columna[ceros_por_columna > umbral].index\n",
        "df.drop(columns=caracteristicas_a_eliminar, inplace=True)\n",
        "\n",
        "df.drop_duplicates(subset=df.columns)"
      ]
    },
    {
      "cell_type": "code",
      "execution_count": null,
      "metadata": {
        "id": "GBHQLch3m9JJ"
      },
      "outputs": [],
      "source": [
        "df.head()"
      ]
    },
    {
      "cell_type": "markdown",
      "metadata": {
        "id": "XeyQnPuylkbN"
      },
      "source": [
        "## EDA"
      ]
    },
    {
      "cell_type": "code",
      "execution_count": null,
      "metadata": {
        "id": "d2yQFl-flqSd"
      },
      "outputs": [],
      "source": [
        "# Ver las variables con alertas por ceros\n",
        "zero_vars = []\n",
        "skewed_vars = []\n",
        "\n",
        "# Iterar sobre las variables en el reporte\n",
        "for variable in profile.description_set.variables:\n",
        "    prop = profile.description_set.variables.get(variable)\n",
        "    # Verificar si la variable tiene la clave 'p_zeros'\n",
        "    if 'p_zeros' in prop and prop['p_zeros'] > 0.9:\n",
        "        zero_vars.append(variable)\n",
        "    if 'skewness' in prop and prop['skewness'] >= 10:\n",
        "        skewed_vars.append(variable)\n",
        "\n",
        "\n",
        "import json\n",
        "\n",
        "aux = {\n",
        "    \"sesgadas\" : skewed_vars,\n",
        "    \"zero_vars\" : zero_vars\n",
        "}\n",
        "\n",
        "dst_file = f'./drive/MyDrive/{dataset_name}/results/var_report.json'\n",
        "with open(dst_file, 'w') as file:\n",
        "  json.dump(aux, file)"
      ]
    },
    {
      "cell_type": "markdown",
      "metadata": {
        "id": "eAgNGicZmCe9"
      },
      "source": [
        "## Eliminación de variables\n",
        "\n"
      ]
    },
    {
      "cell_type": "code",
      "execution_count": null,
      "metadata": {
        "colab": {
          "base_uri": "https://localhost:8080/"
        },
        "id": "4tKiwYshrv2s",
        "outputId": "2f72dff1-ca6c-4f22-e4e7-a240a61e6a20"
      },
      "outputs": [
        {
          "name": "stdout",
          "output_type": "stream",
          "text": [
            "['srcip', 'dsport', 'proto', 'state', 'service', 'ct_ftp_cmd', 'attack_cat']\n",
            "['dur', 'sbytes', 'dbytes', 'sttl', 'dttl', 'sloss', 'dloss', 'Sload', 'Dload', 'Spkts', 'Dpkts', 'swin', 'dwin', 'stcpb', 'dtcpb', 'smeansz', 'dmeansz', 'trans_depth', 'res_bdy_len', 'Sjit', 'Djit', 'Sintpkt', 'Dintpkt', 'tcprtt', 'synack', 'ackdat', 'is_sm_ips_ports', 'ct_state_ttl', 'ct_flw_http_mthd', 'is_ftp_login', 'ct_srv_src', 'ct_srv_dst', 'ct_dst_ltm', 'ct_src_ ltm', 'ct_src_dport_ltm', 'ct_dst_sport_ltm', 'ct_dst_src_ltm', 'Label', 'duration']\n"
          ]
        }
      ],
      "source": [
        "from sklearn.preprocessing import OneHotEncoder\n",
        "\n",
        "sampled_df = df.groupby('Label', group_keys=False).apply(lambda x: x.sample(frac=0.5, random_state=42))\n",
        "#sampled_df.rename(columns={'Label':'Class'})\n",
        "\n",
        "enc = OneHotEncoder(handle_unknown='ignore')\n",
        "label_encoder = LabelEncoder()\n",
        "\n",
        "categ = [idx for idx, dtype in df.dtypes.items() if dtype == 'object']\n",
        "numer = [idx for idx, dtype in df.dtypes.items() if dtype != 'object']\n",
        "\n",
        "\n",
        "print(categ)\n",
        "print(numer)"
      ]
    },
    {
      "cell_type": "code",
      "execution_count": null,
      "metadata": {
        "id": "JBmjJwm9x5R1"
      },
      "outputs": [],
      "source": [
        "X = sampled_df.drop(columns=categ, inplace=False).dropna()\n",
        "#X = freq_encoding(sampled_df.drop(columns=['duration', 'attack_cat', 'Class'])).dropna()\n",
        "y = sampled_df.dropna()['Label']"
      ]
    },
    {
      "cell_type": "code",
      "execution_count": null,
      "metadata": {
        "id": "GI6gTxjNkcDp"
      },
      "outputs": [],
      "source": [
        "X.head(15)"
      ]
    },
    {
      "cell_type": "markdown",
      "metadata": {
        "id": "NDEkWRpxruyl"
      },
      "source": [
        "### Eliminación por correlacion"
      ]
    },
    {
      "cell_type": "code",
      "execution_count": null,
      "metadata": {
        "id": "uinnQHtz3YY1"
      },
      "outputs": [],
      "source": [
        "# Calcular la matriz de correlación\n",
        "# df_numerical = label_encoder.fit_transform(df['Label'])\n",
        "sampled_df = df.copy()\n",
        "sampled_df = freq_encoding(sampled_df).dropna()\n",
        "\n",
        "matriz_correlacion = sampled_df.corr()\n",
        "\n",
        "correlacion_objetivo = matriz_correlacion[\"Label\"].abs() > 0.65\n",
        "variables_interesantes_objetivo = matriz_correlacion.columns[correlacion_objetivo].tolist()\n",
        "\n",
        "# Seleccionar las variables con una correlación alta entre sí\n",
        "correlacion_entre_variables = (matriz_correlacion.abs() > 0.65) & (matriz_correlacion.abs() < 1.0)\n",
        "variables_interesantes_entre_variables = []\n",
        "for columna in correlacion_entre_variables:\n",
        "    variables_correlacionadas = matriz_correlacion.index[correlacion_entre_variables[columna]].tolist()\n",
        "    variables_interesantes_entre_variables.extend(variables_correlacionadas)\n",
        "\n",
        "# Combinar las variables seleccionadas\n",
        "variables_interesantes = variables_interesantes_objetivo\n",
        "candidatos_eliminar = list(set(variables_interesantes_entre_variables))\n",
        "\n",
        "if \"Label\" in candidatos_eliminar:\n",
        "    candidatos_eliminar.remove(\"Label\")"
      ]
    },
    {
      "cell_type": "code",
      "execution_count": null,
      "metadata": {
        "id": "s63QAdhE9FKw"
      },
      "outputs": [],
      "source": [
        "import json\n",
        "\n",
        "aux = {\n",
        "    \"candidatos_eliminar\": candidatos_eliminar,\n",
        "    \"variables_interesantes_objetivo\": variables_interesantes_objetivo\n",
        "}\n",
        "with open(f'./drive/MyDrive/{dataset_name}/eliminacion_correlacion.json', 'w') as out:\n",
        "  json.dump(aux, out)\n",
        "\n",
        "aux"
      ]
    },
    {
      "cell_type": "markdown",
      "metadata": {
        "id": "gKcqEupfqHPs"
      },
      "source": [
        "### Eliminación por Significación Estadística"
      ]
    },
    {
      "cell_type": "code",
      "execution_count": null,
      "metadata": {
        "id": "RtP-pgX33YWB"
      },
      "outputs": [],
      "source": [
        "from sklearn.feature_selection import SelectKBest, f_classif, chi2"
      ]
    },
    {
      "cell_type": "code",
      "execution_count": null,
      "metadata": {
        "id": "wventlQHiE5L"
      },
      "outputs": [],
      "source": [
        "filas_con_infinitos = X[X.isin([np.inf, -np.inf]).any(axis=1)]\n",
        "num_filas_con_infinitos = filas_con_infinitos.shape[0]"
      ]
    },
    {
      "cell_type": "code",
      "execution_count": null,
      "metadata": {
        "colab": {
          "base_uri": "https://localhost:8080/"
        },
        "id": "dL50hp1ZqMil",
        "outputId": "a9fda2f5-9441-4ead-ebe7-16cadaa28c37"
      },
      "outputs": [
        {
          "name": "stderr",
          "output_type": "stream",
          "text": [
            "/usr/local/lib/python3.10/dist-packages/sklearn/feature_selection/_univariate_selection.py:113: RuntimeWarning: divide by zero encountered in divide\n",
            "  f = msb / msw\n"
          ]
        }
      ],
      "source": [
        "# Selección univariante\n",
        "selector = SelectKBest(score_func=f_classif, k='all')\n",
        "selector.fit_transform(X, y)\n",
        "selected_features = X.columns[selector.get_support()]"
      ]
    },
    {
      "cell_type": "code",
      "execution_count": null,
      "metadata": {
        "id": "UTkJrpUIw8VN"
      },
      "outputs": [],
      "source": [
        "import math\n",
        "\n",
        "id_scores = dict(zip(X.columns, selector.scores_))\n",
        "id_scores = dict(sorted(id_scores.items(), key=lambda x: x[1], reverse=True))\n",
        "\n",
        "# Definir el percentil deseado\n",
        "percentile_threshold = 50\n",
        "\n",
        "# Calcular el valor del percentil\n",
        "scores = [x for x in list(id_scores.values()) if not math.isnan(x)]\n",
        "percentile_value = np.percentile(scores, percentile_threshold)\n",
        "\n",
        "# Filtrar las características basadas en el percentil\n",
        "KBest_features = [feature for feature, score in id_scores.items() if score >= percentile_value]\n",
        "\n",
        "KBest_features.remove('Label')"
      ]
    },
    {
      "cell_type": "code",
      "execution_count": null,
      "metadata": {
        "colab": {
          "base_uri": "https://localhost:8080/"
        },
        "id": "1A5MstxhIIQy",
        "outputId": "69534450-e49d-4cbd-d2f9-91959e61c92e"
      },
      "outputs": [
        {
          "data": {
            "text/plain": [
              "['sttl',\n",
              " 'ct_state_ttl',\n",
              " 'dttl',\n",
              " 'ackdat',\n",
              " 'tcprtt',\n",
              " 'synack',\n",
              " 'Sload',\n",
              " 'ct_dst_sport_ltm',\n",
              " 'dmeansz',\n",
              " 'ct_src_dport_ltm',\n",
              " 'Dload',\n",
              " 'swin',\n",
              " 'dwin',\n",
              " 'Sjit',\n",
              " 'dtcpb',\n",
              " 'stcpb',\n",
              " 'ct_dst_src_ltm',\n",
              " 'Dpkts',\n",
              " 'Spkts']"
            ]
          },
          "execution_count": 36,
          "metadata": {},
          "output_type": "execute_result"
        }
      ],
      "source": [
        "KBest_features"
      ]
    },
    {
      "cell_type": "code",
      "execution_count": null,
      "metadata": {
        "colab": {
          "base_uri": "https://localhost:8080/",
          "height": 478
        },
        "id": "rYBkUJiQ09nQ",
        "outputId": "394de0c3-76c0-4757-8c80-985e6e1ff92c"
      },
      "outputs": [
        {
          "data": {
            "image/png": "[encoded data removed]",
            "text/plain": [
              "<Figure size 640x480 with 1 Axes>"
            ]
          },
          "metadata": {},
          "output_type": "display_data"
        }
      ],
      "source": [
        "import matplotlib.pyplot as plt\n",
        "import seaborn as sns\n",
        "import numpy as np\n",
        "\n",
        "# Obtener las puntuaciones estadísticas\n",
        "scores = [id_scores[x] for x in KBest_features]\n",
        "normalized_scores = (scores - np.min(scores)) / (np.max(scores) - np.min(scores))\n",
        "\n",
        "# Crear una paleta de colores con seaborn\n",
        "palette = sns.color_palette(\"viridis\", as_cmap=True)\n",
        "plt.barh(KBest_features, scores, color=palette(normalized_scores), edgecolor='black')\n",
        "\n",
        "plt.ylabel('Variables', fontsize=12)\n",
        "plt.xlabel('Puntuaciones estadísticas', fontsize=12)\n",
        "plt.title('Gráfico de barras de puntuaciones estadísticas', fontsize=14)\n",
        "plt.subplots_adjust(left=0.15)\n",
        "\n",
        "plt.show()"
      ]
    },
    {
      "cell_type": "code",
      "execution_count": null,
      "metadata": {
        "id": "L2H3rc9l2kFD"
      },
      "outputs": [],
      "source": [
        "results = {\n",
        "    \"raw\": [id_scores, dict(zip(X.columns, selector.pvalues_))],\n",
        "    \"filtered\": KBest_features\n",
        "}\n",
        "\n",
        "save_file(results, f'./drive/MyDrive/{dataset_name}/results/kBest.json')"
      ]
    },
    {
      "cell_type": "code",
      "execution_count": null,
      "metadata": {
        "colab": {
          "base_uri": "https://localhost:8080/"
        },
        "id": "F02sCTlyPakH",
        "outputId": "36b78ce9-73e2-444b-ccdf-eb673491181b"
      },
      "outputs": [
        {
          "name": "stdout",
          "output_type": "stream",
          "text": [
            "{\"raw\": [{\"Fwd Act Data Pkts\": 353211.34778049274, \"Subflow Fwd Pkts\": 348567.9190424683, \"Tot Fwd Pkts\": 348567.9190424683, \"Fwd Header Len\": 314520.22709019756, \"Subflow Fwd Byts\": 109731.10038714805, \"TotLen Fwd Pkts\": 109731.10038714805, \"Bwd IAT Mean\": 7582.568675611897, \"Fwd Seg Size Min\": 6860.541029336929, \"Bwd IAT Min\": 6697.836234097839, \"Init Fwd Win Byts\": 5286.601868769875, \"ECE Flag Cnt\": 2929.4374662424757, \"RST Flag Cnt\": 2929.4374662424757, \"ACK Flag Cnt\": 2855.8603411349754, \"PSH Flag Cnt\": 1778.7154279837848, \"Bwd IAT Max\": 1499.0616029173377, \"Dst Port\": 1317.587584674088, \"Fwd Pkt Len Max\": 1270.0636508513594, \"Bwd Pkt Len Max\": 1161.6714103915426, \"Fwd Seg Size Avg\": 1147.8364048290382, \"Fwd Pkt Len Mean\": 1147.8364048290382, \"Pkt Len Max\": 1100.4233224278657, \"Protocol\": 1021.6273618179862, \"Pkt Size Avg\": 934.5078531090323, \"Bwd IAT Std\": 899.1708967771145, \"Init Bwd Win Byts\": 875.8610733122804, \"Bwd Pkt Len Min\": 860.4310475544557, \"Down/Up Ratio\": 813.8046683719002, \"Fwd Pkt Len Std\": 797.8179161323393, \"Pkt Len Mean\": 793.4029060408095, \"Bwd Pkt Len Std\": 783.4242756030941, \"Pkt Len Std\": 773.3476038420262, \"Bwd Seg Size Avg\": 724.1341274140788, \"Bwd Pkt Len Mean\": 724.1341274140758, \"Pkt Len Min\": 625.3695992490076, \"Fwd Pkt Len Min\": 565.7610167637681, \"Bwd IAT Tot\": 565.2335109970338, \"Fwd IAT Mean\": 397.70662861016456, \"Bwd Pkts/s\": 378.2437384623449, \"Pkt Len Var\": 369.12294832977403, \"Flow IAT Mean\": 300.4780231920682, \"SYN Flag Cnt\": 211.22954862143368, \"Fwd PSH Flags\": 211.22954862143368, \"Flow Pkts/s\": 127.47704269765026, \"Active Max\": 113.22703100381914, \"Active Mean\": 113.1069919098321, \"URG Flag Cnt\": 109.9002072948384, \"Idle Min\": 94.89636822976522, \"Active Min\": 81.73386044559422, \"Fwd Pkts/s\": 74.3492881514583, \"CWE Flag Count\": 63.80836643597809, \"Fwd URG Flags\": 63.80836643597809, \"Active Std\": 51.02684179643147, \"Bwd Header Len\": 13.5150387194806, \"Flow Byts/s\": 13.47654640876869, \"FIN Flag Cnt\": 10.889418989373107, \"Subflow Bwd Pkts\": 6.900012579534168, \"Tot Bwd Pkts\": 6.900012579534168, \"Flow Duration\": 2.376411472576305, \"Fwd IAT Tot\": 2.2954975520445955, \"TotLen Bwd Pkts\": 2.17470713421963, \"Subflow Bwd Byts\": 2.1747012345574626, \"Idle Mean\": 0.31910803025332574, \"Flow IAT Max\": 0.139197493032044, \"Fwd IAT Max\": 0.1356079551783883, \"Idle Max\": 0.10839150330317081, \"Flow IAT Std\": 0.059900253156127355, \"Fwd IAT Std\": 0.055060310227700006, \"Idle Std\": 0.04263537724499933, \"Fwd IAT Min\": 0.011442596398616013, \"Flow IAT Min\": 0.00676220030552946}, {\"Dst Port\": 0.0, \"Bwd Seg Size Avg\": 0.0, \"Fwd Seg Size Avg\": 0.0, \"Pkt Size Avg\": 0.0, \"Down/Up Ratio\": 0.0, \"ECE Flag Cnt\": 0.0, \"CWE Flag Count\": 6.234727096373988e-156, \"URG Flag Cnt\": 2.0568468707944087e-274, \"PSH Flag Cnt\": 0.0, \"RST Flag Cnt\": 0.0, \"SYN Flag Cnt\": 0.0, \"FIN Flag Cnt\": 4.581529039832762e-22, \"Pkt Len Var\": 0.0, \"Pkt Len Std\": 0.0, \"Pkt Len Mean\": 0.0, \"ACK Flag Cnt\": 0.0, \"Pkt Len Max\": 0.0, \"Idle Max\": 0.999939612799659, \"Idle Std\": 0.9999996872248017, \"Idle Mean\": 0.9863226518234356, \"Active Min\": 5.838222921639552e-202, \"Active Max\": 5.626252498960844e-283, \"Active Std\": 3.4299701828664965e-123, \"Active Mean\": 1.14604619255764e-282, \"Fwd Seg Size Min\": 0.0, \"Init Bwd Win Byts\": 0.0, \"Init Fwd Win Byts\": 0.0, \"Subflow Bwd Byts\": 0.01040426487780978, \"Subflow Bwd Pkts\": 1.2090249460107012e-12, \"Subflow Fwd Byts\": 0.0, \"Subflow Fwd Pkts\": 0.0, \"Fwd Act Data Pkts\": 0.0, \"Idle Min\": 8.330014876512605e-236, \"Pkt Len Min\": 0.0, \"Fwd Pkts/s\": 5.490145463430553e-183, \"Flow Pkts/s\": 1.1637e-319, \"Flow Byts/s\": 2.3938007358898117e-28, \"Bwd Pkt Len Std\": 0.0, \"Bwd Pkt Len Mean\": 0.0, \"Bwd Pkt Len Min\": 0.0, \"Bwd Pkt Len Max\": 0.0, \"Fwd Pkt Len Std\": 0.0, \"Flow IAT Mean\": 0.0, \"Fwd Pkt Len Mean\": 0.0, \"Fwd Pkt Len Max\": 0.0, \"TotLen Bwd Pkts\": 0.010404024524343629, \"TotLen Fwd Pkts\": 0.0, \"Tot Bwd Pkts\": 1.2090249460107012e-12, \"Tot Fwd Pkts\": 0.0, \"Flow Duration\": 0.00464629948543904, \"Protocol\": 0.0, \"Fwd Pkt Len Min\": 0.0, \"Bwd Pkts/s\": 0.0, \"Flow IAT Std\": 0.9999977978961647, \"Flow IAT Min\": 0.9999999999940151, \"Bwd Header Len\": 1.9273249795804385e-28, \"Fwd Header Len\": 0.0, \"Fwd URG Flags\": 6.234727096373988e-156, \"Fwd PSH Flags\": 0.0, \"Bwd IAT Min\": 0.0, \"Flow IAT Max\": 0.9997683018531475, \"Bwd IAT Max\": 0.0, \"Bwd IAT Mean\": 0.0, \"Bwd IAT Tot\": 0.0, \"Fwd IAT Min\": 0.9999999998628402, \"Fwd IAT Max\": 0.9997982857513034, \"Fwd IAT Std\": 0.9999986384303584, \"Fwd IAT Mean\": 0.0, \"Fwd IAT Tot\": 0.0064446056053347545, \"Bwd IAT Std\": 0.0}], \"filtered\": [\"Fwd Act Data Pkts\", \"Subflow Fwd Pkts\", \"Tot Fwd Pkts\", \"Fwd Header Len\", \"Subflow Fwd Byts\", \"TotLen Fwd Pkts\", \"Bwd IAT Mean\", \"Fwd Seg Size Min\", \"Bwd IAT Min\", \"Init Fwd Win Byts\", \"ECE Flag Cnt\", \"RST Flag Cnt\", \"ACK Flag Cnt\", \"PSH Flag Cnt\", \"Bwd IAT Max\", \"Dst Port\", \"Fwd Pkt Len Max\", \"Bwd Pkt Len Max\"]}"
          ]
        }
      ],
      "source": [
        "!cat ./drive/MyDrive/cse-cic/results/kBest.json"
      ]
    },
    {
      "cell_type": "markdown",
      "metadata": {
        "id": "PrWyWjKXqMNO"
      },
      "source": [
        "### Eliminación por PCA"
      ]
    },
    {
      "cell_type": "code",
      "execution_count": null,
      "metadata": {
        "id": "CqzlZMpnqNS6"
      },
      "outputs": [],
      "source": [
        "from sklearn.decomposition import PCA\n",
        "from sklearn.preprocessing import StandardScaler"
      ]
    },
    {
      "cell_type": "code",
      "execution_count": null,
      "metadata": {
        "colab": {
          "base_uri": "https://localhost:8080/"
        },
        "id": "fQ_aJM4r3DhC",
        "outputId": "80d227cb-2c40-42e0-bb88-05f99ea667e0"
      },
      "outputs": [
        {
          "name": "stderr",
          "output_type": "stream",
          "text": [
            "<ipython-input-53-78d15f940921>:6: FutureWarning: In a future version of pandas all arguments of DataFrame.any and Series.any will be keyword-only.\n",
            "  indices_filas_infinitos = X.index[np.isinf(X).any(1)]\n"
          ]
        }
      ],
      "source": [
        "scaler = StandardScaler()\n",
        "\n",
        "X = freq_encoding(sampled_df.drop(columns=['Label'])).dropna()\n",
        "y = sampled_df['Label'].dropna()\n",
        "\n",
        "indices_filas_infinitos = X.index[np.isinf(X).any(1)]\n",
        "\n",
        "X = X.drop(indices_filas_infinitos)\n",
        "y = y.drop(indices_filas_infinitos)\n",
        "\n",
        "X_scaled = scaler.fit_transform(X)\n",
        "\n",
        "pca = PCA()\n",
        "X_pca = pca.fit_transform(X_scaled)\n",
        "explained_variance_ratio = pca.explained_variance_ratio_\n",
        "cumulative_variance_ratio = explained_variance_ratio.cumsum()"
      ]
    },
    {
      "cell_type": "code",
      "execution_count": null,
      "metadata": {
        "colab": {
          "base_uri": "https://localhost:8080/"
        },
        "id": "M01Z6Dll-2wY",
        "outputId": "85a2e64d-c904-4355-d05c-4ac94b776f85"
      },
      "outputs": [
        {
          "name": "stdout",
          "output_type": "stream",
          "text": [
            "12\n"
          ]
        }
      ],
      "source": [
        "# Determinar el número de componentes que explican cierta proporción de la varianza\n",
        "target_variance_ratio = 0.8\n",
        "n_components = (cumulative_variance_ratio < target_variance_ratio).sum() + 1\n",
        "\n",
        "\n",
        "pca_final = PCA(n_components=n_components)\n",
        "X_pca_final = pca_final.fit_transform(X_scaled)\n",
        "\n",
        "\n",
        "pca_results = {}\n",
        "for i, component in enumerate(pca_final.components_):\n",
        "    component_results = {}\n",
        "    for feature, weight in zip(X.columns, component):\n",
        "        component_results[feature] = weight\n",
        "\n",
        "    pca_results[f'Componente {i + 1}'] = component_results\n",
        "\n",
        "print(len(pca_results.keys()))"
      ]
    },
    {
      "cell_type": "code",
      "execution_count": null,
      "metadata": {
        "colab": {
          "base_uri": "https://localhost:8080/"
        },
        "id": "iqIc4z-4RRHP",
        "outputId": "52503539-b384-4b6f-c436-2f84c6aa1af2"
      },
      "outputs": [
        {
          "name": "stdout",
          "output_type": "stream",
          "text": [
            "Mejores características seleccionadas: ['Fwd URG Flags', 'Flow IAT Max', 'CWE Flag Count', 'Bwd Pkt Len Max', 'Init Fwd Win Byts', 'Subflow Fwd Pkts', 'Pkt Len Max', 'Bwd Pkts/s', 'Bwd Pkt Len Std', 'Active Min', 'Tot Bwd Pkts', 'Active Max', 'Pkt Len Std', 'Fwd IAT Mean', 'Fwd IAT Max', 'Bwd IAT Min', 'Pkt Len Min', 'ECE Flag Cnt', 'ACK Flag Cnt', 'Fwd PSH Flags', 'Subflow Bwd Pkts', 'SYN Flag Cnt', 'Subflow Bwd Byts', 'Tot Fwd Pkts', 'Active Mean', 'Bwd IAT Std', 'Active Std', 'TotLen Bwd Pkts', 'Flow IAT Mean', 'Bwd IAT Max', 'Flow IAT Min', 'Idle Max', 'Bwd Pkt Len Min', 'Flow Pkts/s', 'Fwd Header Len', 'Pkt Len Mean', 'Bwd IAT Tot', 'Fwd IAT Min', 'Fwd Pkts/s', 'Fwd Pkt Len Min', 'Fwd Seg Size Min', 'Subflow Fwd Byts', 'Protocol', 'RST Flag Cnt', 'Fwd Act Data Pkts', 'Bwd Header Len', 'Bwd IAT Mean']\n"
          ]
        }
      ],
      "source": [
        "# Obtener los pesos de las características en los componentes principales\n",
        "weights = pca_final.components_\n",
        "\n",
        "features_weights = {}\n",
        "for i, component_weights in enumerate(weights):\n",
        "    component_name = f'Componente {i + 1}'\n",
        "    component_features = {}\n",
        "    for feature, weight in zip(X.columns, component_weights):\n",
        "        component_features[feature] = abs(weight)  # Tomar el valor absoluto del peso\n",
        "    features_weights[component_name] = component_features\n",
        "\n",
        "\n",
        "for component_name, component_features in features_weights.items():\n",
        "    sorted_features = sorted(component_features.items(), key=lambda x: x[1], reverse=True)\n",
        "    features_weights[component_name] = sorted_features\n",
        "\n",
        "\n",
        "# Seleccionar las mejores características basadas en sus pesos en los componentes principales\n",
        "num_features_to_select = 5  # Número de características a seleccionar por componente principal\n",
        "selected_features = []\n",
        "for component_name, component_features in features_weights.items():\n",
        "    selected_features.extend([feature for feature, weight in component_features[:num_features_to_select]])\n",
        "\n",
        "# Eliminar duplicados\n",
        "selected_features = list(set(selected_features))\n",
        "\n",
        "print(\"Mejores características seleccionadas:\", selected_features)"
      ]
    },
    {
      "cell_type": "code",
      "execution_count": null,
      "metadata": {
        "colab": {
          "base_uri": "https://localhost:8080/"
        },
        "id": "fbKPz9e8QFZs",
        "outputId": "3833bff8-0445-4655-aa3c-06b2d829b540"
      },
      "outputs": [
        {
          "name": "stdout",
          "output_type": "stream",
          "text": [
            "47\n",
            "78\n"
          ]
        }
      ],
      "source": [
        "print(len(selected_features))\n",
        "print(len(X.columns))"
      ]
    },
    {
      "cell_type": "code",
      "execution_count": null,
      "metadata": {
        "id": "9yjHmyHNDGJt"
      },
      "outputs": [],
      "source": [
        "aux = {\n",
        "    'pca_results':pca_results,\n",
        "    'selección': selected_features\n",
        "}\n",
        "save_file(aux, f'./drive/MyDrive/{dataset_name}/results/pca_vars.json')"
      ]
    },
    {
      "cell_type": "code",
      "execution_count": null,
      "metadata": {
        "colab": {
          "base_uri": "https://localhost:8080/"
        },
        "id": "13a1Od5ved6f",
        "outputId": "9748efa5-1add-49c1-e625-bf9384a797ad"
      },
      "outputs": [
        {
          "data": {
            "text/plain": [
              "14"
            ]
          },
          "execution_count": 57,
          "metadata": {},
          "output_type": "execute_result"
        }
      ],
      "source": [
        "intersec = (set(KBest_features) & set(selected_features))\n",
        "\n",
        "len(intersec | set(variables_interesantes_objetivo))"
      ]
    },
    {
      "cell_type": "markdown",
      "metadata": {
        "id": "0z2ok6QnHiO9"
      },
      "source": [
        "# Clearing Dataset"
      ]
    },
    {
      "cell_type": "code",
      "execution_count": null,
      "metadata": {
        "id": "iGpMvhALHj8u"
      },
      "outputs": [],
      "source": [
        "import json\n",
        "\n",
        "\n",
        "#dataset_name = 'nsl-kdd'\n",
        "\n",
        "#df = pd.read_csv('./drive/MyDrive/nsl-kdd/nsl-kdd.csv')\n",
        "\n",
        "\n",
        "var_report = {}\n",
        "with open(f'./drive/MyDrive/{dataset_name}/results/var_report.json', 'r') as file:\n",
        "  var_report = json.load(file)\n",
        "\n",
        "pca_vars = {}\n",
        "with open(f'./drive/MyDrive/{dataset_name}/results/pca_vars.json', 'r') as file:\n",
        "  pca_vars = json.load(file)\n",
        "\n",
        "kBest = {}\n",
        "with open(f'./drive/MyDrive/{dataset_name}/results/kBest.json', 'r') as file:\n",
        "  kBest = json.load(file)\n",
        "\n",
        "elim_corr = {}\n",
        "with open(f'./drive/MyDrive/{dataset_name}/results/eliminacion_correlacion.json', 'r') as file:\n",
        "  elim_corr = json.load(file)"
      ]
    },
    {
      "cell_type": "code",
      "execution_count": null,
      "metadata": {
        "id": "q12xqEEs8AN7"
      },
      "outputs": [],
      "source": [
        "kBest['filtered'].remove('attack_cat')"
      ]
    },
    {
      "cell_type": "code",
      "execution_count": null,
      "metadata": {
        "id": "s9QinyVu8c_c"
      },
      "outputs": [],
      "source": [
        "kBest"
      ]
    },
    {
      "cell_type": "code",
      "execution_count": null,
      "metadata": {
        "colab": {
          "base_uri": "https://localhost:8080/"
        },
        "id": "Pv_n8PyX7K5h",
        "outputId": "130d02b3-e539-4f69-9efc-d3e4303bd654"
      },
      "outputs": [
        {
          "data": {
            "text/plain": [
              "['sttl',\n",
              " 'ct_state_ttl',\n",
              " 'srcip',\n",
              " 'dttl',\n",
              " 'ackdat',\n",
              " 'tcprtt',\n",
              " 'synack',\n",
              " 'Sload',\n",
              " 'state',\n",
              " 'ct_dst_sport_ltm',\n",
              " 'proto',\n",
              " 'dmeansz',\n",
              " 'ct_src_dport_ltm',\n",
              " 'Dload',\n",
              " 'swin',\n",
              " 'dwin',\n",
              " 'Sjit',\n",
              " 'dtcpb',\n",
              " 'stcpb',\n",
              " 'ct_dst_src_ltm',\n",
              " 'dsport',\n",
              " 'Dpkts',\n",
              " 'Spkts',\n",
              " 'ct_dst_ltm']"
            ]
          },
          "execution_count": 26,
          "metadata": {},
          "output_type": "execute_result"
        }
      ],
      "source": [
        "kBest['filtered']"
      ]
    },
    {
      "cell_type": "code",
      "execution_count": null,
      "metadata": {
        "id": "55LIGgTfHkUp",
        "colab": {
          "base_uri": "https://localhost:8080/"
        },
        "outputId": "d058eeeb-e084-4a96-988c-f7dac8bdfdb5"
      },
      "outputs": [
        {
          "output_type": "stream",
          "name": "stdout",
          "text": [
            "{'is_sm_ips_ports', 'res_bdy_len', 'ct_flw_http_mthd'}\n"
          ]
        }
      ],
      "source": [
        "sesgadas = [key for d in var_report.get('sesgadas') for key in d.keys()]\n",
        "\n",
        "ceros = [key for d in var_report.get('zero_vars') for key in d.keys()]\n",
        "\n",
        "\n",
        "eliminar = set(sesgadas) & set(ceros)\n",
        "print(eliminar)"
      ]
    },
    {
      "cell_type": "code",
      "execution_count": null,
      "metadata": {
        "id": "0TkIzZA8HkRN"
      },
      "outputs": [],
      "source": [
        "df.drop(columns=eliminar, inplace=True)"
      ]
    },
    {
      "cell_type": "code",
      "execution_count": null,
      "metadata": {
        "colab": {
          "base_uri": "https://localhost:8080/"
        },
        "id": "Ite-SYdIHkNo",
        "outputId": "be975546-47bf-4ae8-a86a-29c335459179"
      },
      "outputs": [
        {
          "data": {
            "text/plain": [
              "20"
            ]
          },
          "execution_count": 27,
          "metadata": {},
          "output_type": "execute_result"
        }
      ],
      "source": [
        "kB_vars = set(kBest.get('filtered'))\n",
        "top_vars = kB_vars & set(pca_vars.get('selección'))\n",
        "top_vars = set([elem for elem in top_vars if elem not in ['attack_cat', 'duration']])\n",
        "len(top_vars)"
      ]
    },
    {
      "cell_type": "code",
      "execution_count": null,
      "metadata": {
        "colab": {
          "base_uri": "https://localhost:8080/"
        },
        "id": "v5XBjxRKHkG5",
        "outputId": "0e236ce5-0df3-4020-ef49-9d4e7f090f6f"
      },
      "outputs": [
        {
          "data": {
            "text/plain": [
              "7"
            ]
          },
          "execution_count": 28,
          "metadata": {},
          "output_type": "execute_result"
        }
      ],
      "source": [
        "correladas = elim_corr.get('candidatos_eliminar')\n",
        "len(top_vars - set(correladas))"
      ]
    },
    {
      "cell_type": "code",
      "execution_count": null,
      "metadata": {
        "colab": {
          "base_uri": "https://localhost:8080/"
        },
        "id": "S5pbu-PiM29F",
        "outputId": "6a8e7be3-a255-4979-d062-844293cf7ae3"
      },
      "outputs": [
        {
          "name": "stderr",
          "output_type": "stream",
          "text": [
            "<ipython-input-6-6df1e52dbf14>:1: DtypeWarning: Columns (1,35) have mixed types. Specify dtype option on import or set low_memory=False.\n",
            "  df = pd.read_csv('./drive/MyDrive/unsw-nb15/UNSW-NB15.csv')\n"
          ]
        }
      ],
      "source": [
        "#df = pd.read_csv('./drive/MyDrive/unsw-nb15/UNSW-NB15.csv')\n",
        "df = pd.read_csv('./drive/MyDrive/cse/cse-cic.csv')\n",
        "\n",
        "columns = []\n",
        "with open('./drive/MyDrive/unsw-nb15/UNSW-NB15_4.csv.columns', 'r') as archivo:\n",
        "    columns = [linea.strip() for linea in archivo.readlines()]\n",
        "\n",
        "\n",
        "df.columns = columns\n",
        "df.drop(columns=['duration', 'attack_cat'], inplace=True)"
      ]
    },
    {
      "cell_type": "code",
      "execution_count": null,
      "metadata": {
        "colab": {
          "base_uri": "https://localhost:8080/"
        },
        "id": "kPYrTOGDSehB",
        "outputId": "dc41086d-015c-4809-d3a7-01e31520914a"
      },
      "outputs": [
        {
          "name": "stdout",
          "output_type": "stream",
          "text": [
            "<class 'pandas.core.frame.DataFrame'>\n",
            "RangeIndex: 148515 entries, 0 to 148514\n",
            "Data columns (total 42 columns):\n",
            " #   Column                       Non-Null Count   Dtype  \n",
            "---  ------                       --------------   -----  \n",
            " 0   duration                     148515 non-null  int64  \n",
            " 1   protocol_type                148515 non-null  object \n",
            " 2   service                      148515 non-null  object \n",
            " 3   flag                         148515 non-null  object \n",
            " 4   src_bytes                    148515 non-null  int64  \n",
            " 5   dst_bytes                    148515 non-null  int64  \n",
            " 6   land                         148515 non-null  int64  \n",
            " 7   wrong_fragment               148515 non-null  int64  \n",
            " 8   urgent                       148515 non-null  int64  \n",
            " 9   hot                          148515 non-null  int64  \n",
            " 10  num_failed_logins            148515 non-null  int64  \n",
            " 11  logged_in                    148515 non-null  int64  \n",
            " 12  num_compromised              148515 non-null  int64  \n",
            " 13  root_shell                   148515 non-null  int64  \n",
            " 14  su_attempted                 148515 non-null  int64  \n",
            " 15  num_root                     148515 non-null  int64  \n",
            " 16  num_file_creations           148515 non-null  int64  \n",
            " 17  num_shells                   148515 non-null  int64  \n",
            " 18  num_access_files             148515 non-null  int64  \n",
            " 19  num_outbound_cmds            148515 non-null  int64  \n",
            " 20  is_host_login                148515 non-null  int64  \n",
            " 21  is_guest_login               148515 non-null  int64  \n",
            " 22  count                        148515 non-null  int64  \n",
            " 23  srv_count                    148515 non-null  int64  \n",
            " 24  serror_rate                  148515 non-null  float64\n",
            " 25  srv_serror_rate              148515 non-null  float64\n",
            " 26  rerror_rate                  148515 non-null  float64\n",
            " 27  srv_rerror_rate              148515 non-null  float64\n",
            " 28  same_srv_rate                148515 non-null  float64\n",
            " 29  diff_srv_rate                148515 non-null  float64\n",
            " 30  srv_diff_host_rate           148515 non-null  float64\n",
            " 31  dst_host_count               148515 non-null  int64  \n",
            " 32  dst_host_srv_count           148515 non-null  int64  \n",
            " 33  dst_host_same_srv_rate       148515 non-null  float64\n",
            " 34  dst_host_diff_srv_rate       148515 non-null  float64\n",
            " 35  dst_host_same_src_port_rate  148515 non-null  float64\n",
            " 36  dst_host_srv_diff_host_rate  148515 non-null  float64\n",
            " 37  dst_host_serror_rate         148515 non-null  float64\n",
            " 38  dst_host_srv_serror_rate     148515 non-null  float64\n",
            " 39  dst_host_rerror_rate         148515 non-null  float64\n",
            " 40  dst_host_srv_rerror_rate     148515 non-null  float64\n",
            " 41  Label                        148515 non-null  object \n",
            "dtypes: float64(15), int64(23), object(4)\n",
            "memory usage: 47.6+ MB\n"
          ]
        }
      ],
      "source": [
        "df.info()"
      ]
    },
    {
      "cell_type": "code",
      "execution_count": null,
      "metadata": {
        "id": "MB2zuKHeS6oE"
      },
      "outputs": [],
      "source": [
        "df.rename(columns={'Class':'Label'}, inplace=True)"
      ]
    },
    {
      "cell_type": "code",
      "execution_count": null,
      "metadata": {
        "id": "HAZGEkoeHkDv"
      },
      "outputs": [],
      "source": [
        "X = df[list(top_vars)]\n",
        "y = df['Label']"
      ]
    },
    {
      "cell_type": "code",
      "execution_count": null,
      "metadata": {
        "colab": {
          "base_uri": "https://localhost:8080/"
        },
        "id": "PhS9DygdJ6vv",
        "outputId": "5e8b9caa-2682-401c-920b-68b669a72f9e"
      },
      "outputs": [
        {
          "data": {
            "text/plain": [
              "{'ACK Flag Cnt',\n",
              " 'Bwd IAT Mean',\n",
              " 'Bwd IAT Min',\n",
              " 'Flow Pkts/s',\n",
              " 'Fwd Act Data Pkts',\n",
              " 'Fwd Header Len',\n",
              " 'Fwd Pkt Len Mean',\n",
              " 'Fwd Pkts/s',\n",
              " 'Fwd Seg Size Avg',\n",
              " 'Init Fwd Win Byts',\n",
              " 'Subflow Fwd Byts',\n",
              " 'Subflow Fwd Pkts',\n",
              " 'Tot Fwd Pkts'}"
            ]
          },
          "execution_count": 10,
          "metadata": {},
          "output_type": "execute_result"
        }
      ],
      "source": [
        "top_vars"
      ]
    },
    {
      "cell_type": "code",
      "execution_count": null,
      "metadata": {
        "id": "B7iu_SjjHkA0"
      },
      "outputs": [],
      "source": [
        "import numpy as np\n",
        "final_df = pd.concat([X, y], axis=1)\n",
        "\n",
        "final_df.replace([np.inf, -np.inf], np.nan)\n",
        "final_df.dropna(inplace=True)\n",
        "final_df.drop_duplicates(inplace=True)\n",
        "\n",
        "\n",
        "final_df.to_csv(f'./drive/MyDrive/{dataset_name}/results/{dataset_name}.csv',index=False, header=True, na_rep='', encoding='utf-8')"
      ]
    },
    {
      "cell_type": "code",
      "execution_count": null,
      "metadata": {
        "colab": {
          "base_uri": "https://localhost:8080/"
        },
        "id": "FAV7fjvgp_JE",
        "outputId": "3af1e7a6-f6d2-45e6-eb27-4e91c2fdc43a"
      },
      "outputs": [
        {
          "name": "stdout",
          "output_type": "stream",
          "text": [
            "<class 'pandas.core.frame.DataFrame'>\n",
            "Index: 115647 entries, 0 to 148514\n",
            "Data columns (total 21 columns):\n",
            " #   Column                       Non-Null Count   Dtype  \n",
            "---  ------                       --------------   -----  \n",
            " 0   same_srv_rate                115647 non-null  float64\n",
            " 1   dst_host_same_src_port_rate  115647 non-null  float64\n",
            " 2   dst_host_serror_rate         115647 non-null  float64\n",
            " 3   dst_host_same_srv_rate       115647 non-null  float64\n",
            " 4   dst_host_srv_count           115647 non-null  int64  \n",
            " 5   dst_host_srv_serror_rate     115647 non-null  float64\n",
            " 6   srv_serror_rate              115647 non-null  float64\n",
            " 7   dst_host_diff_srv_rate       115647 non-null  float64\n",
            " 8   serror_rate                  115647 non-null  float64\n",
            " 9   count                        115647 non-null  int64  \n",
            " 10  rerror_rate                  115647 non-null  float64\n",
            " 11  wrong_fragment               115647 non-null  int64  \n",
            " 12  dst_host_rerror_rate         115647 non-null  float64\n",
            " 13  dst_host_count               115647 non-null  int64  \n",
            " 14  service                      115647 non-null  object \n",
            " 15  dst_host_srv_rerror_rate     115647 non-null  float64\n",
            " 16  logged_in                    115647 non-null  int64  \n",
            " 17  diff_srv_rate                115647 non-null  float64\n",
            " 18  srv_diff_host_rate           115647 non-null  float64\n",
            " 19  srv_rerror_rate              115647 non-null  float64\n",
            " 20  Label                        115647 non-null  object \n",
            "dtypes: float64(14), int64(5), object(2)\n",
            "memory usage: 19.4+ MB\n"
          ]
        }
      ],
      "source": [
        "final_df.info()"
      ]
    },
    {
      "cell_type": "code",
      "execution_count": null,
      "metadata": {
        "id": "6H68-w39H7T2"
      },
      "outputs": [],
      "source": [
        "from sklearn.model_selection import train_test_split\n",
        "\n",
        "X_train, X_test, y_train, y_test = train_test_split(\n",
        "    X,\n",
        "    y,\n",
        "    test_size=.25,\n",
        "    random_state=42,\n",
        "    stratify=y\n",
        ")\n",
        "\n",
        "pd.concat([X_train, y_train], axis=1).to_csv(f'./drive/MyDrive/{dataset_name}/results/{dataset_name}_train.csv',index=False, header=True, na_rep='', encoding='utf-8')\n",
        "pd.concat([X_test, y_test], axis=1).to_csv(f'./drive/MyDrive/{dataset_name}/results/{dataset_name}_test.csv',index=False, header=True, na_rep='', encoding='utf-8')"
      ]
    },
    {
      "cell_type": "code",
      "execution_count": null,
      "metadata": {
        "colab": {
          "base_uri": "https://localhost:8080/"
        },
        "id": "dHGJl5E2H7P8",
        "outputId": "e821e554-c8d4-4e16-a684-e0992fe5fccb"
      },
      "outputs": [
        {
          "name": "stdout",
          "output_type": "stream",
          "text": [
            "srcip\n",
            "dsport\n",
            "proto\n",
            "state\n",
            "dur\n",
            "sbytes\n",
            "dbytes\n",
            "sttl\n",
            "dttl\n",
            "sloss\n"
          ]
        }
      ],
      "source": [
        "!cat ./drive/MyDrive/unsw-nb15/UNSW-NB15_4.csv.columns | head"
      ]
    },
    {
      "cell_type": "code",
      "execution_count": null,
      "metadata": {
        "id": "vkxMYlM4H7MG"
      },
      "outputs": [],
      "source": []
    },
    {
      "cell_type": "code",
      "execution_count": null,
      "metadata": {
        "colab": {
          "base_uri": "https://localhost:8080/",
          "height": 35
        },
        "id": "3glcZKoQH7BM",
        "outputId": "5189cbe0-665d-4594-ffbe-3da234681a6c"
      },
      "outputs": [
        {
          "data": {
            "application/vnd.google.colaboratory.intrinsic+json": {
              "type": "string"
            },
            "text/plain": [
              "'cse-cic'"
            ]
          },
          "execution_count": 76,
          "metadata": {},
          "output_type": "execute_result"
        }
      ],
      "source": [
        "dataset_name"
      ]
    }
  ],
  "metadata": {
    "colab": {
      "provenance": [],
      "mount_file_id": "1hnDhd5vLK8Vq1URRxAZCxxnFyBIGpnIm",
      "authorship_tag": "ABX9TyN9pC1Sifu6L5U9Y1YXDs1z",
      "include_colab_link": true
    },
    "kernelspec": {
      "display_name": "Python 3",
      "name": "python3"
    },
    "language_info": {
      "name": "python"
    },
    "widgets": {
      "application/vnd.jupyter.widget-state+json": {
        "a0ef5658f0c0465a8236e56dcc3c1d54": {
          "model_module": "@jupyter-widgets/controls",
          "model_name": "HBoxModel",
          "model_module_version": "1.5.0",
          "state": {
            "_dom_classes": [],
            "_model_module": "@jupyter-widgets/controls",
            "_model_module_version": "1.5.0",
            "_model_name": "HBoxModel",
            "_view_count": null,
            "_view_module": "@jupyter-widgets/controls",
            "_view_module_version": "1.5.0",
            "_view_name": "HBoxView",
            "box_style": "",
            "children": [
              "IPY_MODEL_1af53397f3fd4963a83714bc376dc84e",
              "IPY_MODEL_6cc3287a85f54032860dce2742d79d3f",
              "IPY_MODEL_f60fb442ec514fd0be006a4deaac9e20"
            ],
            "layout": "IPY_MODEL_1ed3f7966a1b430c93a6527f05c5a52d"
          }
        },
        "1af53397f3fd4963a83714bc376dc84e": {
          "model_module": "@jupyter-widgets/controls",
          "model_name": "HTMLModel",
          "model_module_version": "1.5.0",
          "state": {
            "_dom_classes": [],
            "_model_module": "@jupyter-widgets/controls",
            "_model_module_version": "1.5.0",
            "_model_name": "HTMLModel",
            "_view_count": null,
            "_view_module": "@jupyter-widgets/controls",
            "_view_module_version": "1.5.0",
            "_view_name": "HTMLView",
            "description": "",
            "description_tooltip": null,
            "layout": "IPY_MODEL_3d977cebbdb44c1c80398dc72211a6dc",
            "placeholder": "​",
            "style": "IPY_MODEL_a6b71eddfbff4c9282b635582e7fb1a1",
            "value": "Summarize dataset: 100%"
          }
        },
        "6cc3287a85f54032860dce2742d79d3f": {
          "model_module": "@jupyter-widgets/controls",
          "model_name": "FloatProgressModel",
          "model_module_version": "1.5.0",
          "state": {
            "_dom_classes": [],
            "_model_module": "@jupyter-widgets/controls",
            "_model_module_version": "1.5.0",
            "_model_name": "FloatProgressModel",
            "_view_count": null,
            "_view_module": "@jupyter-widgets/controls",
            "_view_module_version": "1.5.0",
            "_view_name": "ProgressView",
            "bar_style": "success",
            "description": "",
            "description_tooltip": null,
            "layout": "IPY_MODEL_bd88947b79f6419288a229c2a6dc10ee",
            "max": 5,
            "min": 0,
            "orientation": "horizontal",
            "style": "IPY_MODEL_a58db17aaf6d422f888ce2a53e552dc6",
            "value": 5
          }
        },
        "f60fb442ec514fd0be006a4deaac9e20": {
          "model_module": "@jupyter-widgets/controls",
          "model_name": "HTMLModel",
          "model_module_version": "1.5.0",
          "state": {
            "_dom_classes": [],
            "_model_module": "@jupyter-widgets/controls",
            "_model_module_version": "1.5.0",
            "_model_name": "HTMLModel",
            "_view_count": null,
            "_view_module": "@jupyter-widgets/controls",
            "_view_module_version": "1.5.0",
            "_view_name": "HTMLView",
            "description": "",
            "description_tooltip": null,
            "layout": "IPY_MODEL_27b272c760ce42e29d4bff877557417d",
            "placeholder": "​",
            "style": "IPY_MODEL_6d3556e69c474a3683c60fac803d593b",
            "value": " 52/52 [02:07&lt;00:00, 12.57s/it, Completed]"
          }
        },
        "1ed3f7966a1b430c93a6527f05c5a52d": {
          "model_module": "@jupyter-widgets/base",
          "model_name": "LayoutModel",
          "model_module_version": "1.2.0",
          "state": {
            "_model_module": "@jupyter-widgets/base",
            "_model_module_version": "1.2.0",
            "_model_name": "LayoutModel",
            "_view_count": null,
            "_view_module": "@jupyter-widgets/base",
            "_view_module_version": "1.2.0",
            "_view_name": "LayoutView",
            "align_content": null,
            "align_items": null,
            "align_self": null,
            "border": null,
            "bottom": null,
            "display": null,
            "flex": null,
            "flex_flow": null,
            "grid_area": null,
            "grid_auto_columns": null,
            "grid_auto_flow": null,
            "grid_auto_rows": null,
            "grid_column": null,
            "grid_gap": null,
            "grid_row": null,
            "grid_template_areas": null,
            "grid_template_columns": null,
            "grid_template_rows": null,
            "height": null,
            "justify_content": null,
            "justify_items": null,
            "left": null,
            "margin": null,
            "max_height": null,
            "max_width": null,
            "min_height": null,
            "min_width": null,
            "object_fit": null,
            "object_position": null,
            "order": null,
            "overflow": null,
            "overflow_x": null,
            "overflow_y": null,
            "padding": null,
            "right": null,
            "top": null,
            "visibility": null,
            "width": null
          }
        },
        "3d977cebbdb44c1c80398dc72211a6dc": {
          "model_module": "@jupyter-widgets/base",
          "model_name": "LayoutModel",
          "model_module_version": "1.2.0",
          "state": {
            "_model_module": "@jupyter-widgets/base",
            "_model_module_version": "1.2.0",
            "_model_name": "LayoutModel",
            "_view_count": null,
            "_view_module": "@jupyter-widgets/base",
            "_view_module_version": "1.2.0",
            "_view_name": "LayoutView",
            "align_content": null,
            "align_items": null,
            "align_self": null,
            "border": null,
            "bottom": null,
            "display": null,
            "flex": null,
            "flex_flow": null,
            "grid_area": null,
            "grid_auto_columns": null,
            "grid_auto_flow": null,
            "grid_auto_rows": null,
            "grid_column": null,
            "grid_gap": null,
            "grid_row": null,
            "grid_template_areas": null,
            "grid_template_columns": null,
            "grid_template_rows": null,
            "height": null,
            "justify_content": null,
            "justify_items": null,
            "left": null,
            "margin": null,
            "max_height": null,
            "max_width": null,
            "min_height": null,
            "min_width": null,
            "object_fit": null,
            "object_position": null,
            "order": null,
            "overflow": null,
            "overflow_x": null,
            "overflow_y": null,
            "padding": null,
            "right": null,
            "top": null,
            "visibility": null,
            "width": null
          }
        },
        "a6b71eddfbff4c9282b635582e7fb1a1": {
          "model_module": "@jupyter-widgets/controls",
          "model_name": "DescriptionStyleModel",
          "model_module_version": "1.5.0",
          "state": {
            "_model_module": "@jupyter-widgets/controls",
            "_model_module_version": "1.5.0",
            "_model_name": "DescriptionStyleModel",
            "_view_count": null,
            "_view_module": "@jupyter-widgets/base",
            "_view_module_version": "1.2.0",
            "_view_name": "StyleView",
            "description_width": ""
          }
        },
        "bd88947b79f6419288a229c2a6dc10ee": {
          "model_module": "@jupyter-widgets/base",
          "model_name": "LayoutModel",
          "model_module_version": "1.2.0",
          "state": {
            "_model_module": "@jupyter-widgets/base",
            "_model_module_version": "1.2.0",
            "_model_name": "LayoutModel",
            "_view_count": null,
            "_view_module": "@jupyter-widgets/base",
            "_view_module_version": "1.2.0",
            "_view_name": "LayoutView",
            "align_content": null,
            "align_items": null,
            "align_self": null,
            "border": null,
            "bottom": null,
            "display": null,
            "flex": null,
            "flex_flow": null,
            "grid_area": null,
            "grid_auto_columns": null,
            "grid_auto_flow": null,
            "grid_auto_rows": null,
            "grid_column": null,
            "grid_gap": null,
            "grid_row": null,
            "grid_template_areas": null,
            "grid_template_columns": null,
            "grid_template_rows": null,
            "height": null,
            "justify_content": null,
            "justify_items": null,
            "left": null,
            "margin": null,
            "max_height": null,
            "max_width": null,
            "min_height": null,
            "min_width": null,
            "object_fit": null,
            "object_position": null,
            "order": null,
            "overflow": null,
            "overflow_x": null,
            "overflow_y": null,
            "padding": null,
            "right": null,
            "top": null,
            "visibility": null,
            "width": null
          }
        },
        "a58db17aaf6d422f888ce2a53e552dc6": {
          "model_module": "@jupyter-widgets/controls",
          "model_name": "ProgressStyleModel",
          "model_module_version": "1.5.0",
          "state": {
            "_model_module": "@jupyter-widgets/controls",
            "_model_module_version": "1.5.0",
            "_model_name": "ProgressStyleModel",
            "_view_count": null,
            "_view_module": "@jupyter-widgets/base",
            "_view_module_version": "1.2.0",
            "_view_name": "StyleView",
            "bar_color": null,
            "description_width": ""
          }
        },
        "27b272c760ce42e29d4bff877557417d": {
          "model_module": "@jupyter-widgets/base",
          "model_name": "LayoutModel",
          "model_module_version": "1.2.0",
          "state": {
            "_model_module": "@jupyter-widgets/base",
            "_model_module_version": "1.2.0",
            "_model_name": "LayoutModel",
            "_view_count": null,
            "_view_module": "@jupyter-widgets/base",
            "_view_module_version": "1.2.0",
            "_view_name": "LayoutView",
            "align_content": null,
            "align_items": null,
            "align_self": null,
            "border": null,
            "bottom": null,
            "display": null,
            "flex": null,
            "flex_flow": null,
            "grid_area": null,
            "grid_auto_columns": null,
            "grid_auto_flow": null,
            "grid_auto_rows": null,
            "grid_column": null,
            "grid_gap": null,
            "grid_row": null,
            "grid_template_areas": null,
            "grid_template_columns": null,
            "grid_template_rows": null,
            "height": null,
            "justify_content": null,
            "justify_items": null,
            "left": null,
            "margin": null,
            "max_height": null,
            "max_width": null,
            "min_height": null,
            "min_width": null,
            "object_fit": null,
            "object_position": null,
            "order": null,
            "overflow": null,
            "overflow_x": null,
            "overflow_y": null,
            "padding": null,
            "right": null,
            "top": null,
            "visibility": null,
            "width": null
          }
        },
        "6d3556e69c474a3683c60fac803d593b": {
          "model_module": "@jupyter-widgets/controls",
          "model_name": "DescriptionStyleModel",
          "model_module_version": "1.5.0",
          "state": {
            "_model_module": "@jupyter-widgets/controls",
            "_model_module_version": "1.5.0",
            "_model_name": "DescriptionStyleModel",
            "_view_count": null,
            "_view_module": "@jupyter-widgets/base",
            "_view_module_version": "1.2.0",
            "_view_name": "StyleView",
            "description_width": ""
          }
        },
        "352d4aa8f1ac4c6b9b55a269fa89b5e2": {
          "model_module": "@jupyter-widgets/controls",
          "model_name": "HBoxModel",
          "model_module_version": "1.5.0",
          "state": {
            "_dom_classes": [],
            "_model_module": "@jupyter-widgets/controls",
            "_model_module_version": "1.5.0",
            "_model_name": "HBoxModel",
            "_view_count": null,
            "_view_module": "@jupyter-widgets/controls",
            "_view_module_version": "1.5.0",
            "_view_name": "HBoxView",
            "box_style": "",
            "children": [
              "IPY_MODEL_288c2358620c4925bbe36916736d09c6",
              "IPY_MODEL_e630ec5addbf4344937e072d026403db",
              "IPY_MODEL_f14bc64088e046e7acee11a1e0baf134"
            ],
            "layout": "IPY_MODEL_7e6742dbe57a4fa09dced1492161c67f"
          }
        },
        "288c2358620c4925bbe36916736d09c6": {
          "model_module": "@jupyter-widgets/controls",
          "model_name": "HTMLModel",
          "model_module_version": "1.5.0",
          "state": {
            "_dom_classes": [],
            "_model_module": "@jupyter-widgets/controls",
            "_model_module_version": "1.5.0",
            "_model_name": "HTMLModel",
            "_view_count": null,
            "_view_module": "@jupyter-widgets/controls",
            "_view_module_version": "1.5.0",
            "_view_name": "HTMLView",
            "description": "",
            "description_tooltip": null,
            "layout": "IPY_MODEL_a74e82a1fb924e75a1dc754a7ca97c96",
            "placeholder": "​",
            "style": "IPY_MODEL_f52404c5cd824d8090a5796c70373023",
            "value": "Generate report structure: 100%"
          }
        },
        "e630ec5addbf4344937e072d026403db": {
          "model_module": "@jupyter-widgets/controls",
          "model_name": "FloatProgressModel",
          "model_module_version": "1.5.0",
          "state": {
            "_dom_classes": [],
            "_model_module": "@jupyter-widgets/controls",
            "_model_module_version": "1.5.0",
            "_model_name": "FloatProgressModel",
            "_view_count": null,
            "_view_module": "@jupyter-widgets/controls",
            "_view_module_version": "1.5.0",
            "_view_name": "ProgressView",
            "bar_style": "success",
            "description": "",
            "description_tooltip": null,
            "layout": "IPY_MODEL_0df3710acce44eab951b61193f5a143b",
            "max": 1,
            "min": 0,
            "orientation": "horizontal",
            "style": "IPY_MODEL_c95968cba8784e379933c75566537f17",
            "value": 1
          }
        },
        "f14bc64088e046e7acee11a1e0baf134": {
          "model_module": "@jupyter-widgets/controls",
          "model_name": "HTMLModel",
          "model_module_version": "1.5.0",
          "state": {
            "_dom_classes": [],
            "_model_module": "@jupyter-widgets/controls",
            "_model_module_version": "1.5.0",
            "_model_name": "HTMLModel",
            "_view_count": null,
            "_view_module": "@jupyter-widgets/controls",
            "_view_module_version": "1.5.0",
            "_view_name": "HTMLView",
            "description": "",
            "description_tooltip": null,
            "layout": "IPY_MODEL_ec3170c8814b4e189a788be5b9137ece",
            "placeholder": "​",
            "style": "IPY_MODEL_274ba92e0d5f443b886ec0cc2dece9cf",
            "value": " 1/1 [00:33&lt;00:00, 33.46s/it]"
          }
        },
        "7e6742dbe57a4fa09dced1492161c67f": {
          "model_module": "@jupyter-widgets/base",
          "model_name": "LayoutModel",
          "model_module_version": "1.2.0",
          "state": {
            "_model_module": "@jupyter-widgets/base",
            "_model_module_version": "1.2.0",
            "_model_name": "LayoutModel",
            "_view_count": null,
            "_view_module": "@jupyter-widgets/base",
            "_view_module_version": "1.2.0",
            "_view_name": "LayoutView",
            "align_content": null,
            "align_items": null,
            "align_self": null,
            "border": null,
            "bottom": null,
            "display": null,
            "flex": null,
            "flex_flow": null,
            "grid_area": null,
            "grid_auto_columns": null,
            "grid_auto_flow": null,
            "grid_auto_rows": null,
            "grid_column": null,
            "grid_gap": null,
            "grid_row": null,
            "grid_template_areas": null,
            "grid_template_columns": null,
            "grid_template_rows": null,
            "height": null,
            "justify_content": null,
            "justify_items": null,
            "left": null,
            "margin": null,
            "max_height": null,
            "max_width": null,
            "min_height": null,
            "min_width": null,
            "object_fit": null,
            "object_position": null,
            "order": null,
            "overflow": null,
            "overflow_x": null,
            "overflow_y": null,
            "padding": null,
            "right": null,
            "top": null,
            "visibility": null,
            "width": null
          }
        },
        "a74e82a1fb924e75a1dc754a7ca97c96": {
          "model_module": "@jupyter-widgets/base",
          "model_name": "LayoutModel",
          "model_module_version": "1.2.0",
          "state": {
            "_model_module": "@jupyter-widgets/base",
            "_model_module_version": "1.2.0",
            "_model_name": "LayoutModel",
            "_view_count": null,
            "_view_module": "@jupyter-widgets/base",
            "_view_module_version": "1.2.0",
            "_view_name": "LayoutView",
            "align_content": null,
            "align_items": null,
            "align_self": null,
            "border": null,
            "bottom": null,
            "display": null,
            "flex": null,
            "flex_flow": null,
            "grid_area": null,
            "grid_auto_columns": null,
            "grid_auto_flow": null,
            "grid_auto_rows": null,
            "grid_column": null,
            "grid_gap": null,
            "grid_row": null,
            "grid_template_areas": null,
            "grid_template_columns": null,
            "grid_template_rows": null,
            "height": null,
            "justify_content": null,
            "justify_items": null,
            "left": null,
            "margin": null,
            "max_height": null,
            "max_width": null,
            "min_height": null,
            "min_width": null,
            "object_fit": null,
            "object_position": null,
            "order": null,
            "overflow": null,
            "overflow_x": null,
            "overflow_y": null,
            "padding": null,
            "right": null,
            "top": null,
            "visibility": null,
            "width": null
          }
        },
        "f52404c5cd824d8090a5796c70373023": {
          "model_module": "@jupyter-widgets/controls",
          "model_name": "DescriptionStyleModel",
          "model_module_version": "1.5.0",
          "state": {
            "_model_module": "@jupyter-widgets/controls",
            "_model_module_version": "1.5.0",
            "_model_name": "DescriptionStyleModel",
            "_view_count": null,
            "_view_module": "@jupyter-widgets/base",
            "_view_module_version": "1.2.0",
            "_view_name": "StyleView",
            "description_width": ""
          }
        },
        "0df3710acce44eab951b61193f5a143b": {
          "model_module": "@jupyter-widgets/base",
          "model_name": "LayoutModel",
          "model_module_version": "1.2.0",
          "state": {
            "_model_module": "@jupyter-widgets/base",
            "_model_module_version": "1.2.0",
            "_model_name": "LayoutModel",
            "_view_count": null,
            "_view_module": "@jupyter-widgets/base",
            "_view_module_version": "1.2.0",
            "_view_name": "LayoutView",
            "align_content": null,
            "align_items": null,
            "align_self": null,
            "border": null,
            "bottom": null,
            "display": null,
            "flex": null,
            "flex_flow": null,
            "grid_area": null,
            "grid_auto_columns": null,
            "grid_auto_flow": null,
            "grid_auto_rows": null,
            "grid_column": null,
            "grid_gap": null,
            "grid_row": null,
            "grid_template_areas": null,
            "grid_template_columns": null,
            "grid_template_rows": null,
            "height": null,
            "justify_content": null,
            "justify_items": null,
            "left": null,
            "margin": null,
            "max_height": null,
            "max_width": null,
            "min_height": null,
            "min_width": null,
            "object_fit": null,
            "object_position": null,
            "order": null,
            "overflow": null,
            "overflow_x": null,
            "overflow_y": null,
            "padding": null,
            "right": null,
            "top": null,
            "visibility": null,
            "width": null
          }
        },
        "c95968cba8784e379933c75566537f17": {
          "model_module": "@jupyter-widgets/controls",
          "model_name": "ProgressStyleModel",
          "model_module_version": "1.5.0",
          "state": {
            "_model_module": "@jupyter-widgets/controls",
            "_model_module_version": "1.5.0",
            "_model_name": "ProgressStyleModel",
            "_view_count": null,
            "_view_module": "@jupyter-widgets/base",
            "_view_module_version": "1.2.0",
            "_view_name": "StyleView",
            "bar_color": null,
            "description_width": ""
          }
        },
        "ec3170c8814b4e189a788be5b9137ece": {
          "model_module": "@jupyter-widgets/base",
          "model_name": "LayoutModel",
          "model_module_version": "1.2.0",
          "state": {
            "_model_module": "@jupyter-widgets/base",
            "_model_module_version": "1.2.0",
            "_model_name": "LayoutModel",
            "_view_count": null,
            "_view_module": "@jupyter-widgets/base",
            "_view_module_version": "1.2.0",
            "_view_name": "LayoutView",
            "align_content": null,
            "align_items": null,
            "align_self": null,
            "border": null,
            "bottom": null,
            "display": null,
            "flex": null,
            "flex_flow": null,
            "grid_area": null,
            "grid_auto_columns": null,
            "grid_auto_flow": null,
            "grid_auto_rows": null,
            "grid_column": null,
            "grid_gap": null,
            "grid_row": null,
            "grid_template_areas": null,
            "grid_template_columns": null,
            "grid_template_rows": null,
            "height": null,
            "justify_content": null,
            "justify_items": null,
            "left": null,
            "margin": null,
            "max_height": null,
            "max_width": null,
            "min_height": null,
            "min_width": null,
            "object_fit": null,
            "object_position": null,
            "order": null,
            "overflow": null,
            "overflow_x": null,
            "overflow_y": null,
            "padding": null,
            "right": null,
            "top": null,
            "visibility": null,
            "width": null
          }
        },
        "274ba92e0d5f443b886ec0cc2dece9cf": {
          "model_module": "@jupyter-widgets/controls",
          "model_name": "DescriptionStyleModel",
          "model_module_version": "1.5.0",
          "state": {
            "_model_module": "@jupyter-widgets/controls",
            "_model_module_version": "1.5.0",
            "_model_name": "DescriptionStyleModel",
            "_view_count": null,
            "_view_module": "@jupyter-widgets/base",
            "_view_module_version": "1.2.0",
            "_view_name": "StyleView",
            "description_width": ""
          }
        },
        "36bf267a504a49f2b272e70ff764cd68": {
          "model_module": "@jupyter-widgets/controls",
          "model_name": "HBoxModel",
          "model_module_version": "1.5.0",
          "state": {
            "_dom_classes": [],
            "_model_module": "@jupyter-widgets/controls",
            "_model_module_version": "1.5.0",
            "_model_name": "HBoxModel",
            "_view_count": null,
            "_view_module": "@jupyter-widgets/controls",
            "_view_module_version": "1.5.0",
            "_view_name": "HBoxView",
            "box_style": "",
            "children": [
              "IPY_MODEL_0bbfdd9b09274983a16654cf49942f71",
              "IPY_MODEL_64b3e00f1d6340169c1ab570e1b78c9e",
              "IPY_MODEL_332a6671679a4b91a6dff82da9d8b5fb"
            ],
            "layout": "IPY_MODEL_ff3f6f65b8de41608d89488979370dc1"
          }
        },
        "0bbfdd9b09274983a16654cf49942f71": {
          "model_module": "@jupyter-widgets/controls",
          "model_name": "HTMLModel",
          "model_module_version": "1.5.0",
          "state": {
            "_dom_classes": [],
            "_model_module": "@jupyter-widgets/controls",
            "_model_module_version": "1.5.0",
            "_model_name": "HTMLModel",
            "_view_count": null,
            "_view_module": "@jupyter-widgets/controls",
            "_view_module_version": "1.5.0",
            "_view_name": "HTMLView",
            "description": "",
            "description_tooltip": null,
            "layout": "IPY_MODEL_d1b812acc30e4c739850993b24f88e17",
            "placeholder": "​",
            "style": "IPY_MODEL_508e002bbc2e40288ae8cf15f092a14f",
            "value": "Render HTML: 100%"
          }
        },
        "64b3e00f1d6340169c1ab570e1b78c9e": {
          "model_module": "@jupyter-widgets/controls",
          "model_name": "FloatProgressModel",
          "model_module_version": "1.5.0",
          "state": {
            "_dom_classes": [],
            "_model_module": "@jupyter-widgets/controls",
            "_model_module_version": "1.5.0",
            "_model_name": "FloatProgressModel",
            "_view_count": null,
            "_view_module": "@jupyter-widgets/controls",
            "_view_module_version": "1.5.0",
            "_view_name": "ProgressView",
            "bar_style": "success",
            "description": "",
            "description_tooltip": null,
            "layout": "IPY_MODEL_47fe4c30242a416bb9cf48df73a80dd0",
            "max": 1,
            "min": 0,
            "orientation": "horizontal",
            "style": "IPY_MODEL_b533721c18ed45cd91957544691c3074",
            "value": 1
          }
        },
        "332a6671679a4b91a6dff82da9d8b5fb": {
          "model_module": "@jupyter-widgets/controls",
          "model_name": "HTMLModel",
          "model_module_version": "1.5.0",
          "state": {
            "_dom_classes": [],
            "_model_module": "@jupyter-widgets/controls",
            "_model_module_version": "1.5.0",
            "_model_name": "HTMLModel",
            "_view_count": null,
            "_view_module": "@jupyter-widgets/controls",
            "_view_module_version": "1.5.0",
            "_view_name": "HTMLView",
            "description": "",
            "description_tooltip": null,
            "layout": "IPY_MODEL_ccbc6d19bb9e4089889adcd08df037b4",
            "placeholder": "​",
            "style": "IPY_MODEL_514ba9ae2be74ada99c80cf8f7696a73",
            "value": " 1/1 [00:01&lt;00:00,  1.77s/it]"
          }
        },
        "ff3f6f65b8de41608d89488979370dc1": {
          "model_module": "@jupyter-widgets/base",
          "model_name": "LayoutModel",
          "model_module_version": "1.2.0",
          "state": {
            "_model_module": "@jupyter-widgets/base",
            "_model_module_version": "1.2.0",
            "_model_name": "LayoutModel",
            "_view_count": null,
            "_view_module": "@jupyter-widgets/base",
            "_view_module_version": "1.2.0",
            "_view_name": "LayoutView",
            "align_content": null,
            "align_items": null,
            "align_self": null,
            "border": null,
            "bottom": null,
            "display": null,
            "flex": null,
            "flex_flow": null,
            "grid_area": null,
            "grid_auto_columns": null,
            "grid_auto_flow": null,
            "grid_auto_rows": null,
            "grid_column": null,
            "grid_gap": null,
            "grid_row": null,
            "grid_template_areas": null,
            "grid_template_columns": null,
            "grid_template_rows": null,
            "height": null,
            "justify_content": null,
            "justify_items": null,
            "left": null,
            "margin": null,
            "max_height": null,
            "max_width": null,
            "min_height": null,
            "min_width": null,
            "object_fit": null,
            "object_position": null,
            "order": null,
            "overflow": null,
            "overflow_x": null,
            "overflow_y": null,
            "padding": null,
            "right": null,
            "top": null,
            "visibility": null,
            "width": null
          }
        },
        "d1b812acc30e4c739850993b24f88e17": {
          "model_module": "@jupyter-widgets/base",
          "model_name": "LayoutModel",
          "model_module_version": "1.2.0",
          "state": {
            "_model_module": "@jupyter-widgets/base",
            "_model_module_version": "1.2.0",
            "_model_name": "LayoutModel",
            "_view_count": null,
            "_view_module": "@jupyter-widgets/base",
            "_view_module_version": "1.2.0",
            "_view_name": "LayoutView",
            "align_content": null,
            "align_items": null,
            "align_self": null,
            "border": null,
            "bottom": null,
            "display": null,
            "flex": null,
            "flex_flow": null,
            "grid_area": null,
            "grid_auto_columns": null,
            "grid_auto_flow": null,
            "grid_auto_rows": null,
            "grid_column": null,
            "grid_gap": null,
            "grid_row": null,
            "grid_template_areas": null,
            "grid_template_columns": null,
            "grid_template_rows": null,
            "height": null,
            "justify_content": null,
            "justify_items": null,
            "left": null,
            "margin": null,
            "max_height": null,
            "max_width": null,
            "min_height": null,
            "min_width": null,
            "object_fit": null,
            "object_position": null,
            "order": null,
            "overflow": null,
            "overflow_x": null,
            "overflow_y": null,
            "padding": null,
            "right": null,
            "top": null,
            "visibility": null,
            "width": null
          }
        },
        "508e002bbc2e40288ae8cf15f092a14f": {
          "model_module": "@jupyter-widgets/controls",
          "model_name": "DescriptionStyleModel",
          "model_module_version": "1.5.0",
          "state": {
            "_model_module": "@jupyter-widgets/controls",
            "_model_module_version": "1.5.0",
            "_model_name": "DescriptionStyleModel",
            "_view_count": null,
            "_view_module": "@jupyter-widgets/base",
            "_view_module_version": "1.2.0",
            "_view_name": "StyleView",
            "description_width": ""
          }
        },
        "47fe4c30242a416bb9cf48df73a80dd0": {
          "model_module": "@jupyter-widgets/base",
          "model_name": "LayoutModel",
          "model_module_version": "1.2.0",
          "state": {
            "_model_module": "@jupyter-widgets/base",
            "_model_module_version": "1.2.0",
            "_model_name": "LayoutModel",
            "_view_count": null,
            "_view_module": "@jupyter-widgets/base",
            "_view_module_version": "1.2.0",
            "_view_name": "LayoutView",
            "align_content": null,
            "align_items": null,
            "align_self": null,
            "border": null,
            "bottom": null,
            "display": null,
            "flex": null,
            "flex_flow": null,
            "grid_area": null,
            "grid_auto_columns": null,
            "grid_auto_flow": null,
            "grid_auto_rows": null,
            "grid_column": null,
            "grid_gap": null,
            "grid_row": null,
            "grid_template_areas": null,
            "grid_template_columns": null,
            "grid_template_rows": null,
            "height": null,
            "justify_content": null,
            "justify_items": null,
            "left": null,
            "margin": null,
            "max_height": null,
            "max_width": null,
            "min_height": null,
            "min_width": null,
            "object_fit": null,
            "object_position": null,
            "order": null,
            "overflow": null,
            "overflow_x": null,
            "overflow_y": null,
            "padding": null,
            "right": null,
            "top": null,
            "visibility": null,
            "width": null
          }
        },
        "b533721c18ed45cd91957544691c3074": {
          "model_module": "@jupyter-widgets/controls",
          "model_name": "ProgressStyleModel",
          "model_module_version": "1.5.0",
          "state": {
            "_model_module": "@jupyter-widgets/controls",
            "_model_module_version": "1.5.0",
            "_model_name": "ProgressStyleModel",
            "_view_count": null,
            "_view_module": "@jupyter-widgets/base",
            "_view_module_version": "1.2.0",
            "_view_name": "StyleView",
            "bar_color": null,
            "description_width": ""
          }
        },
        "ccbc6d19bb9e4089889adcd08df037b4": {
          "model_module": "@jupyter-widgets/base",
          "model_name": "LayoutModel",
          "model_module_version": "1.2.0",
          "state": {
            "_model_module": "@jupyter-widgets/base",
            "_model_module_version": "1.2.0",
            "_model_name": "LayoutModel",
            "_view_count": null,
            "_view_module": "@jupyter-widgets/base",
            "_view_module_version": "1.2.0",
            "_view_name": "LayoutView",
            "align_content": null,
            "align_items": null,
            "align_self": null,
            "border": null,
            "bottom": null,
            "display": null,
            "flex": null,
            "flex_flow": null,
            "grid_area": null,
            "grid_auto_columns": null,
            "grid_auto_flow": null,
            "grid_auto_rows": null,
            "grid_column": null,
            "grid_gap": null,
            "grid_row": null,
            "grid_template_areas": null,
            "grid_template_columns": null,
            "grid_template_rows": null,
            "height": null,
            "justify_content": null,
            "justify_items": null,
            "left": null,
            "margin": null,
            "max_height": null,
            "max_width": null,
            "min_height": null,
            "min_width": null,
            "object_fit": null,
            "object_position": null,
            "order": null,
            "overflow": null,
            "overflow_x": null,
            "overflow_y": null,
            "padding": null,
            "right": null,
            "top": null,
            "visibility": null,
            "width": null
          }
        },
        "514ba9ae2be74ada99c80cf8f7696a73": {
          "model_module": "@jupyter-widgets/controls",
          "model_name": "DescriptionStyleModel",
          "model_module_version": "1.5.0",
          "state": {
            "_model_module": "@jupyter-widgets/controls",
            "_model_module_version": "1.5.0",
            "_model_name": "DescriptionStyleModel",
            "_view_count": null,
            "_view_module": "@jupyter-widgets/base",
            "_view_module_version": "1.2.0",
            "_view_name": "StyleView",
            "description_width": ""
          }
        },
        "69517264196243609ced512212ddf790": {
          "model_module": "@jupyter-widgets/controls",
          "model_name": "HBoxModel",
          "model_module_version": "1.5.0",
          "state": {
            "_dom_classes": [],
            "_model_module": "@jupyter-widgets/controls",
            "_model_module_version": "1.5.0",
            "_model_name": "HBoxModel",
            "_view_count": null,
            "_view_module": "@jupyter-widgets/controls",
            "_view_module_version": "1.5.0",
            "_view_name": "HBoxView",
            "box_style": "",
            "children": [
              "IPY_MODEL_c9db1e80cece4440927bb901060b3bf3",
              "IPY_MODEL_7b2670a5f1d64f1d8c6e5b65b1649b4f",
              "IPY_MODEL_3dbcb9edb0a54a93bca5572caea9aebe"
            ],
            "layout": "IPY_MODEL_c587af1c3357464eb74207b8e42c2a1b"
          }
        },
        "c9db1e80cece4440927bb901060b3bf3": {
          "model_module": "@jupyter-widgets/controls",
          "model_name": "HTMLModel",
          "model_module_version": "1.5.0",
          "state": {
            "_dom_classes": [],
            "_model_module": "@jupyter-widgets/controls",
            "_model_module_version": "1.5.0",
            "_model_name": "HTMLModel",
            "_view_count": null,
            "_view_module": "@jupyter-widgets/controls",
            "_view_module_version": "1.5.0",
            "_view_name": "HTMLView",
            "description": "",
            "description_tooltip": null,
            "layout": "IPY_MODEL_26c49452fdfc4b8ba853c41eee281d6b",
            "placeholder": "​",
            "style": "IPY_MODEL_d8db3d0c5c6b446db5ef763b0d658193",
            "value": "Export report to file: 100%"
          }
        },
        "7b2670a5f1d64f1d8c6e5b65b1649b4f": {
          "model_module": "@jupyter-widgets/controls",
          "model_name": "FloatProgressModel",
          "model_module_version": "1.5.0",
          "state": {
            "_dom_classes": [],
            "_model_module": "@jupyter-widgets/controls",
            "_model_module_version": "1.5.0",
            "_model_name": "FloatProgressModel",
            "_view_count": null,
            "_view_module": "@jupyter-widgets/controls",
            "_view_module_version": "1.5.0",
            "_view_name": "ProgressView",
            "bar_style": "success",
            "description": "",
            "description_tooltip": null,
            "layout": "IPY_MODEL_091c9a35d7bd485bbb261155d00965ef",
            "max": 1,
            "min": 0,
            "orientation": "horizontal",
            "style": "IPY_MODEL_228969ba92ac468388c8e0e0d744d239",
            "value": 1
          }
        },
        "3dbcb9edb0a54a93bca5572caea9aebe": {
          "model_module": "@jupyter-widgets/controls",
          "model_name": "HTMLModel",
          "model_module_version": "1.5.0",
          "state": {
            "_dom_classes": [],
            "_model_module": "@jupyter-widgets/controls",
            "_model_module_version": "1.5.0",
            "_model_name": "HTMLModel",
            "_view_count": null,
            "_view_module": "@jupyter-widgets/controls",
            "_view_module_version": "1.5.0",
            "_view_name": "HTMLView",
            "description": "",
            "description_tooltip": null,
            "layout": "IPY_MODEL_142f43fdd3a34ef3aad5b487369ca248",
            "placeholder": "​",
            "style": "IPY_MODEL_53f79e0b73b94095bd162ad62c9ed011",
            "value": " 1/1 [00:00&lt;00:00, 21.15it/s]"
          }
        },
        "c587af1c3357464eb74207b8e42c2a1b": {
          "model_module": "@jupyter-widgets/base",
          "model_name": "LayoutModel",
          "model_module_version": "1.2.0",
          "state": {
            "_model_module": "@jupyter-widgets/base",
            "_model_module_version": "1.2.0",
            "_model_name": "LayoutModel",
            "_view_count": null,
            "_view_module": "@jupyter-widgets/base",
            "_view_module_version": "1.2.0",
            "_view_name": "LayoutView",
            "align_content": null,
            "align_items": null,
            "align_self": null,
            "border": null,
            "bottom": null,
            "display": null,
            "flex": null,
            "flex_flow": null,
            "grid_area": null,
            "grid_auto_columns": null,
            "grid_auto_flow": null,
            "grid_auto_rows": null,
            "grid_column": null,
            "grid_gap": null,
            "grid_row": null,
            "grid_template_areas": null,
            "grid_template_columns": null,
            "grid_template_rows": null,
            "height": null,
            "justify_content": null,
            "justify_items": null,
            "left": null,
            "margin": null,
            "max_height": null,
            "max_width": null,
            "min_height": null,
            "min_width": null,
            "object_fit": null,
            "object_position": null,
            "order": null,
            "overflow": null,
            "overflow_x": null,
            "overflow_y": null,
            "padding": null,
            "right": null,
            "top": null,
            "visibility": null,
            "width": null
          }
        },
        "26c49452fdfc4b8ba853c41eee281d6b": {
          "model_module": "@jupyter-widgets/base",
          "model_name": "LayoutModel",
          "model_module_version": "1.2.0",
          "state": {
            "_model_module": "@jupyter-widgets/base",
            "_model_module_version": "1.2.0",
            "_model_name": "LayoutModel",
            "_view_count": null,
            "_view_module": "@jupyter-widgets/base",
            "_view_module_version": "1.2.0",
            "_view_name": "LayoutView",
            "align_content": null,
            "align_items": null,
            "align_self": null,
            "border": null,
            "bottom": null,
            "display": null,
            "flex": null,
            "flex_flow": null,
            "grid_area": null,
            "grid_auto_columns": null,
            "grid_auto_flow": null,
            "grid_auto_rows": null,
            "grid_column": null,
            "grid_gap": null,
            "grid_row": null,
            "grid_template_areas": null,
            "grid_template_columns": null,
            "grid_template_rows": null,
            "height": null,
            "justify_content": null,
            "justify_items": null,
            "left": null,
            "margin": null,
            "max_height": null,
            "max_width": null,
            "min_height": null,
            "min_width": null,
            "object_fit": null,
            "object_position": null,
            "order": null,
            "overflow": null,
            "overflow_x": null,
            "overflow_y": null,
            "padding": null,
            "right": null,
            "top": null,
            "visibility": null,
            "width": null
          }
        },
        "d8db3d0c5c6b446db5ef763b0d658193": {
          "model_module": "@jupyter-widgets/controls",
          "model_name": "DescriptionStyleModel",
          "model_module_version": "1.5.0",
          "state": {
            "_model_module": "@jupyter-widgets/controls",
            "_model_module_version": "1.5.0",
            "_model_name": "DescriptionStyleModel",
            "_view_count": null,
            "_view_module": "@jupyter-widgets/base",
            "_view_module_version": "1.2.0",
            "_view_name": "StyleView",
            "description_width": ""
          }
        },
        "091c9a35d7bd485bbb261155d00965ef": {
          "model_module": "@jupyter-widgets/base",
          "model_name": "LayoutModel",
          "model_module_version": "1.2.0",
          "state": {
            "_model_module": "@jupyter-widgets/base",
            "_model_module_version": "1.2.0",
            "_model_name": "LayoutModel",
            "_view_count": null,
            "_view_module": "@jupyter-widgets/base",
            "_view_module_version": "1.2.0",
            "_view_name": "LayoutView",
            "align_content": null,
            "align_items": null,
            "align_self": null,
            "border": null,
            "bottom": null,
            "display": null,
            "flex": null,
            "flex_flow": null,
            "grid_area": null,
            "grid_auto_columns": null,
            "grid_auto_flow": null,
            "grid_auto_rows": null,
            "grid_column": null,
            "grid_gap": null,
            "grid_row": null,
            "grid_template_areas": null,
            "grid_template_columns": null,
            "grid_template_rows": null,
            "height": null,
            "justify_content": null,
            "justify_items": null,
            "left": null,
            "margin": null,
            "max_height": null,
            "max_width": null,
            "min_height": null,
            "min_width": null,
            "object_fit": null,
            "object_position": null,
            "order": null,
            "overflow": null,
            "overflow_x": null,
            "overflow_y": null,
            "padding": null,
            "right": null,
            "top": null,
            "visibility": null,
            "width": null
          }
        },
        "228969ba92ac468388c8e0e0d744d239": {
          "model_module": "@jupyter-widgets/controls",
          "model_name": "ProgressStyleModel",
          "model_module_version": "1.5.0",
          "state": {
            "_model_module": "@jupyter-widgets/controls",
            "_model_module_version": "1.5.0",
            "_model_name": "ProgressStyleModel",
            "_view_count": null,
            "_view_module": "@jupyter-widgets/base",
            "_view_module_version": "1.2.0",
            "_view_name": "StyleView",
            "bar_color": null,
            "description_width": ""
          }
        },
        "142f43fdd3a34ef3aad5b487369ca248": {
          "model_module": "@jupyter-widgets/base",
          "model_name": "LayoutModel",
          "model_module_version": "1.2.0",
          "state": {
            "_model_module": "@jupyter-widgets/base",
            "_model_module_version": "1.2.0",
            "_model_name": "LayoutModel",
            "_view_count": null,
            "_view_module": "@jupyter-widgets/base",
            "_view_module_version": "1.2.0",
            "_view_name": "LayoutView",
            "align_content": null,
            "align_items": null,
            "align_self": null,
            "border": null,
            "bottom": null,
            "display": null,
            "flex": null,
            "flex_flow": null,
            "grid_area": null,
            "grid_auto_columns": null,
            "grid_auto_flow": null,
            "grid_auto_rows": null,
            "grid_column": null,
            "grid_gap": null,
            "grid_row": null,
            "grid_template_areas": null,
            "grid_template_columns": null,
            "grid_template_rows": null,
            "height": null,
            "justify_content": null,
            "justify_items": null,
            "left": null,
            "margin": null,
            "max_height": null,
            "max_width": null,
            "min_height": null,
            "min_width": null,
            "object_fit": null,
            "object_position": null,
            "order": null,
            "overflow": null,
            "overflow_x": null,
            "overflow_y": null,
            "padding": null,
            "right": null,
            "top": null,
            "visibility": null,
            "width": null
          }
        },
        "53f79e0b73b94095bd162ad62c9ed011": {
          "model_module": "@jupyter-widgets/controls",
          "model_name": "DescriptionStyleModel",
          "model_module_version": "1.5.0",
          "state": {
            "_model_module": "@jupyter-widgets/controls",
            "_model_module_version": "1.5.0",
            "_model_name": "DescriptionStyleModel",
            "_view_count": null,
            "_view_module": "@jupyter-widgets/base",
            "_view_module_version": "1.2.0",
            "_view_name": "StyleView",
            "description_width": ""
          }
        }
      }
    }
  },
  "nbformat": 4,
  "nbformat_minor": 0
}